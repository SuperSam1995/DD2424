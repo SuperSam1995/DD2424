{
 "cells": [
  {
   "cell_type": "code",
   "execution_count": 1,
   "metadata": {},
   "outputs": [
    {
     "name": "stdout",
     "output_type": "stream",
     "text": [
      "(3072, 10000) (3072, 10000) (3072, 10000)\n",
      "(10, 10000) (10, 10000) (10, 10000)\n",
      "-6.106226635438361e-17 1.0000000000000007\n",
      "0.007580614388947589 0.9948807690405734\n",
      "-0.003204818012514591 0.9966486046311599\n"
     ]
    }
   ],
   "source": [
    "import numpy as np\n",
    "import os\n",
    "\n",
    "def unpickle(file_path):\n",
    "    \"\"\"\n",
    "    Unpickle a file and return the contents as a dictionary.\n",
    "\n",
    "    Args:\n",
    "        file_path (str): The path to the file to unpickle.\n",
    "\n",
    "    Returns:\n",
    "        dict: The contents of the unpickled file as a dictionary.\n",
    "    \"\"\"\n",
    "    import pickle\n",
    "    with open(file_path, 'rb') as f:\n",
    "        unpickled_data = pickle.load(f, encoding='bytes')\n",
    "    return unpickled_data\n",
    "\n",
    "\n",
    "\n",
    "def softmax(logits):\n",
    "    \"\"\"\n",
    "    Compute the softmax function for a set of logits.\n",
    "\n",
    "    Args:\n",
    "        logits (ndarray): A 2D array of shape (num_classes, num_samples) containing the logits.\n",
    "\n",
    "    Returns:\n",
    "        ndarray: A 2D array of shape (num_classes, num_samples) containing the softmax probabilities.\n",
    "    \"\"\"\n",
    "    logits = logits.T\n",
    "    assert len(logits.shape) == 2\n",
    "    max_logits = np.max(logits, axis=1)\n",
    "    max_logits = max_logits[:, np.newaxis]\n",
    "    exp_logits = np.exp(logits - max_logits)\n",
    "    sum_exp_logits = np.sum(exp_logits, axis=1)\n",
    "    sum_exp_logits = sum_exp_logits[:, np.newaxis]\n",
    "    softmax_probs = exp_logits / sum_exp_logits\n",
    "    return softmax_probs.T\n",
    "\n",
    "\n",
    "def relu(input_data):\n",
    "    \"\"\"\n",
    "    Compute the rectified linear unit (ReLU) activation function for a set of input data.\n",
    "\n",
    "    Args:\n",
    "        input_data (ndarray): A 2D array of shape (num_features, num_samples) containing the input data.\n",
    "\n",
    "    Returns:\n",
    "        ndarray: A 2D array of shape (num_features, num_samples) containing the ReLU activations.\n",
    "    \"\"\"\n",
    "    return np.where(input_data > 0, input_data, 0)\n",
    "\n",
    "\n",
    "\n",
    "def load_batch(file_path):\n",
    "    \"\"\"\n",
    "    Load a batch of data from a file and return the data and labels.\n",
    "\n",
    "    Args:\n",
    "        file_path (str): The path to the file to load.\n",
    "\n",
    "    Returns:\n",
    "        tuple: A tuple containing the data and labels as 2D arrays.\n",
    "    \"\"\"\n",
    "    unpickled_data = unpickle(file_path)\n",
    "    return unpickled_data[b'data'], unpickled_data[b'labels']\n",
    "\n",
    "\n",
    "def load_files(file_names, one_hot=True):\n",
    "    \"\"\"\n",
    "    Load a set of data files and return the concatenated data and labels.\n",
    "\n",
    "    Args:\n",
    "        file_names (list): A list of file paths to load.\n",
    "        one_hot (bool): Whether to use one-hot encoding for the labels.\n",
    "\n",
    "    Returns:\n",
    "        tuple: A tuple containing the concatenated data and labels as 2D arrays.\n",
    "    \"\"\"\n",
    "    data, labels = [], []\n",
    "    for file_path in file_names:\n",
    "        loaded_data, loaded_labels = load_batch(file_path)\n",
    "        data.append(loaded_data)\n",
    "        labels.append(loaded_labels)\n",
    "    if one_hot:\n",
    "        return np.concatenate(data), one_hot_encoder(np.concatenate(labels))\n",
    "    return np.concatenate(data), np.concatenate(labels)\n",
    "\n",
    "\n",
    "def one_hot_encoder(y, num_classes=10):\n",
    "    return np.eye(num_classes)[np.array(y, dtype='int')]\n",
    "\n",
    "\n",
    "def load_data(train_files, validation_files, test_files):\n",
    "    \"\"\"\n",
    "    Load a set of data files for training, validation, and testing, and normalize the data.\n",
    "\n",
    "    Args:\n",
    "        train_files (list): A list of file paths containing the training data.\n",
    "        validation_files (list): A list of file paths containing the validation data.\n",
    "        test_files (list): A list of file paths containing the test data.\n",
    "\n",
    "    Returns:\n",
    "        tuple: A tuple containing the normalized training, validation, and test data and labels, as well as the mean and standard deviation used for normalization.\n",
    "    \"\"\"\n",
    "    train_data, train_labels = load_files(train_files)\n",
    "    validation_data, validation_labels = load_files(validation_files)\n",
    "    test_data, test_labels = load_files(test_files)\n",
    "\n",
    "    mean = train_data.mean()\n",
    "    std = train_data.std()\n",
    "    train_data = (train_data - mean) / std\n",
    "    validation_data = (validation_data - mean) / std\n",
    "    test_data = (test_data - mean) / std\n",
    "\n",
    "    return train_data.T, validation_data.T, test_data.T, train_labels.T, validation_labels.T, test_labels.T, mean, std\n",
    "\n",
    "\n",
    "def get_data(data_folder):\n",
    "    \"\"\"\n",
    "    Load the CIFAR-10 dataset from a specified folder.\n",
    "\n",
    "    Args:\n",
    "        data_folder (str): The path to the folder containing the CIFAR-10 data files.\n",
    "\n",
    "    Returns:\n",
    "        tuple: A tuple containing the normalized training, validation, and test data and labels, as well as the mean and standard deviation used for normalization.\n",
    "    \"\"\"\n",
    "    train_files = [os.path.join(data_folder, 'cifar-10-batches-py', f)\n",
    "                   for f in ['data_batch_1']]\n",
    "    val_files = [os.path.join(data_folder, 'cifar-10-batches-py', f)\n",
    "                 for f in ['data_batch_2']]\n",
    "    test_files = [os.path.join(data_folder, 'cifar-10-batches-py', f)\n",
    "                  for f in ['test_batch']]\n",
    "    try:\n",
    "        return load_data(train_files, val_files, test_files)\n",
    "    except FileNotFoundError:\n",
    "        print(\"Error: One or more data files not found.\")\n",
    "    except ValueError:\n",
    "        print(\"Error: One or more data files are not in the expected format.\")\n",
    "\n",
    "\n",
    "def flip(image):\n",
    "    \"\"\"\n",
    "    Flip an image horizontally.\n",
    "\n",
    "    Args:\n",
    "        image (ndarray): A 3D array representing the image to flip.\n",
    "\n",
    "    Returns:\n",
    "        ndarray: A 3D array representing the flipped image.\n",
    "    \"\"\"\n",
    "    flipped_image = image.copy()\n",
    "    for i in range(32 * 3 - 1):\n",
    "        flipped_image[i*32:(i+1)*32] = flipped_image[i*32:(i+1)*32][::-1]\n",
    "    return flipped_image\n",
    "\n",
    "\n",
    "def get_all_data(dir_path, validation_n=5000):\n",
    "    \"\"\"\n",
    "    Load all data files for training, validation, and testing, and normalize the data.\n",
    "\n",
    "    Args:\n",
    "        dir_path (str): The path to the directory containing the CIFAR-10 data files.\n",
    "        validation_n (int): The number of samples to use for validation.\n",
    "\n",
    "    Returns:\n",
    "        tuple: A tuple containing the normalized training, validation, and test data and labels, as well as the mean and standard deviation used for normalization.\n",
    "    \"\"\"\n",
    "    train_data = []\n",
    "    train_labels = []\n",
    "    validation_data = []\n",
    "    validation_labels = []\n",
    "    test_data = []\n",
    "    test_labels = []\n",
    "\n",
    "    for i in range(1, 6):\n",
    "        file_path = os.path.join(dir_path, f'data_batch_{i}')\n",
    "        try:\n",
    "            loaded = unpickle(file_path)\n",
    "        except FileNotFoundError:\n",
    "            print(f\"Error: File not found: {file_path}\")\n",
    "            return\n",
    "        except ValueError:\n",
    "            print(f\"Error: File not in expected format: {file_path}\")\n",
    "            return\n",
    "        train_data.append(loaded[b'data'])\n",
    "        train_labels.append(loaded[b'labels'])\n",
    "    file_path = os.path.join(dir_path, 'test_batch')\n",
    "    try:\n",
    "        loaded = unpickle(file_path)\n",
    "    except FileNotFoundError:\n",
    "        print(f\"Error: File not found: {file_path}\")\n",
    "        return\n",
    "    except ValueError:\n",
    "        print(f\"Error: File not in expected format: {file_path}\")\n",
    "        return\n",
    "    test_data = np.array(loaded[b'data'])\n",
    "    test_labels = np.eye(10)[np.array(loaded[b'labels'])]  # one-hot coding\n",
    "    train_data = np.concatenate(train_data)\n",
    "    train_labels = np.eye(10)[np.concatenate(train_labels)]  # one-hot coding\n",
    "    mean = train_data.mean()\n",
    "    std = train_data.std()\n",
    "    train_data = (train_data - mean) / std\n",
    "    test_data = (test_data - mean) / std\n",
    "    validation_data = train_data[:validation_n]\n",
    "    validation_labels = train_labels[:validation_n]\n",
    "    train_data = train_data[validation_n:]\n",
    "    train_labels = train_labels[validation_n:]\n",
    "    return train_data.T, validation_data.T, test_data.T, train_labels.T, validation_labels.T, test_labels.T, mean, std\n",
    "\n",
    "\n",
    "if __name__ == '__main__':\n",
    "    x_train, x_val, x_test, y_train, y_val, y_test, mean, std = get_data(\n",
    "        os.path.join('datasets'))\n",
    "\n",
    "    print(x_train.shape, x_val.shape, x_test.shape)\n",
    "    print(y_train.shape, y_val.shape, y_test.shape)\n",
    "    print(x_train.mean(), x_train.std())\n",
    "    print(x_test.mean(), x_test.std())\n",
    "\n",
    "    print(x_val.mean(), x_val.std())\n"
   ]
  },
  {
   "cell_type": "code",
   "execution_count": 2,
   "metadata": {},
   "outputs": [
    {
     "name": "stdout",
     "output_type": "stream",
     "text": [
      "epoch1/12\n"
     ]
    },
    {
     "name": "stderr",
     "output_type": "stream",
     "text": [
      "100%|█████████▉| 500/501 [00:05<00:00, 97.70it/s] \n"
     ]
    },
    {
     "name": "stdout",
     "output_type": "stream",
     "text": [
      "epoch2/12\n"
     ]
    },
    {
     "name": "stderr",
     "output_type": "stream",
     "text": [
      "100%|█████████▉| 500/501 [00:04<00:00, 106.86it/s]\n"
     ]
    },
    {
     "name": "stdout",
     "output_type": "stream",
     "text": [
      "epoch3/12\n"
     ]
    },
    {
     "name": "stderr",
     "output_type": "stream",
     "text": [
      "100%|█████████▉| 500/501 [00:05<00:00, 99.45it/s] \n"
     ]
    },
    {
     "name": "stdout",
     "output_type": "stream",
     "text": [
      "epoch4/12\n"
     ]
    },
    {
     "name": "stderr",
     "output_type": "stream",
     "text": [
      "100%|█████████▉| 500/501 [00:05<00:00, 92.82it/s] \n"
     ]
    },
    {
     "name": "stdout",
     "output_type": "stream",
     "text": [
      "epoch5/12\n"
     ]
    },
    {
     "name": "stderr",
     "output_type": "stream",
     "text": [
      "100%|█████████▉| 500/501 [00:03<00:00, 143.21it/s]\n"
     ]
    },
    {
     "name": "stdout",
     "output_type": "stream",
     "text": [
      "epoch6/12\n"
     ]
    },
    {
     "name": "stderr",
     "output_type": "stream",
     "text": [
      "100%|█████████▉| 500/501 [00:04<00:00, 109.99it/s]\n"
     ]
    },
    {
     "name": "stdout",
     "output_type": "stream",
     "text": [
      "epoch7/12\n"
     ]
    },
    {
     "name": "stderr",
     "output_type": "stream",
     "text": [
      "100%|█████████▉| 500/501 [00:04<00:00, 105.69it/s]\n"
     ]
    },
    {
     "name": "stdout",
     "output_type": "stream",
     "text": [
      "epoch8/12\n"
     ]
    },
    {
     "name": "stderr",
     "output_type": "stream",
     "text": [
      "100%|█████████▉| 500/501 [00:04<00:00, 113.60it/s]\n"
     ]
    },
    {
     "name": "stdout",
     "output_type": "stream",
     "text": [
      "epoch9/12\n"
     ]
    },
    {
     "name": "stderr",
     "output_type": "stream",
     "text": [
      "100%|█████████▉| 500/501 [00:04<00:00, 119.61it/s]\n"
     ]
    },
    {
     "name": "stdout",
     "output_type": "stream",
     "text": [
      "epoch10/12\n"
     ]
    },
    {
     "name": "stderr",
     "output_type": "stream",
     "text": [
      "100%|█████████▉| 500/501 [00:03<00:00, 138.61it/s]\n"
     ]
    },
    {
     "name": "stdout",
     "output_type": "stream",
     "text": [
      "epoch11/12\n"
     ]
    },
    {
     "name": "stderr",
     "output_type": "stream",
     "text": [
      "100%|█████████▉| 500/501 [00:03<00:00, 139.21it/s]\n"
     ]
    },
    {
     "name": "stdout",
     "output_type": "stream",
     "text": [
      "epoch12/12\n"
     ]
    },
    {
     "name": "stderr",
     "output_type": "stream",
     "text": [
      "100%|█████████▉| 500/501 [00:03<00:00, 140.37it/s]\n"
     ]
    },
    {
     "name": "stdout",
     "output_type": "stream",
     "text": [
      "[1.7492790897929855, 1.7492790897929855, 0.3802]\n"
     ]
    },
    {
     "data": {
      "image/png": "[encoded data removed]",
      "text/plain": [
       "<Figure size 640x480 with 1 Axes>"
      ]
     },
     "metadata": {},
     "output_type": "display_data"
    }
   ],
   "source": [
    "from calendar import leapdays\n",
    "from math import gamma\n",
    "from turtle import forward\n",
    "\n",
    "from matplotlib.ft2font import LOAD_LINEAR_DESIGN\n",
    "import os\n",
    "import numpy as np\n",
    "import matplotlib.pyplot as plt\n",
    "from tqdm import tqdm\n",
    "\n",
    "\n",
    "\n",
    "class Dense_layer:\n",
    "    def __init__(self, n_input, n_units, activation, lambda_, use_batch_norm, after=False, adam=False) -> None:\n",
    "        self.n_input = n_input\n",
    "        self.n_units = n_units\n",
    "        assert activation in ['relu', 'softmax']\n",
    "        self.activation = activation\n",
    "        self.W = np.random.normal(0, 1/np.sqrt(n_input), (n_units, n_input))\n",
    "        self.b = np.zeros(n_units)\n",
    "        self.gradient = (None, None)\n",
    "        self.lambda_ = lambda_\n",
    "        self.use_bn = use_batch_norm\n",
    "        if self.use_bn:\n",
    "            self.mu = np.zeros(n_units)\n",
    "            self.mu_average = np.zeros(n_units)\n",
    "            self.v = np.ones(n_units)\n",
    "            self.v_average = np.ones(n_units)\n",
    "            self.gamma = np.ones(n_units)\n",
    "            self.beta = np.zeros(n_units)\n",
    "            self.alpha = 0.9\n",
    "        self.after = after\n",
    "        self.adam_m = [0,  0, 0, 0]\n",
    "        self.adam_v = [0, 0, 0, 0]\n",
    "        self.t = 1\n",
    "        self.adam = adam\n",
    "\n",
    "    def forward(self, X, test, set_average=False):\n",
    "        self.input = X\n",
    "        h = ((self.W @ X).T + self.b).T\n",
    "        if self.after and self.use_bn:\n",
    "            h = relu(h)\n",
    "        if self.use_bn:\n",
    "            if test:\n",
    "                mean = self.mu_average\n",
    "                var = self.v_average\n",
    "            else:\n",
    "                self.s = h.copy()\n",
    "                n = X.shape[1]\n",
    "                mean = np.mean(h, axis=1)\n",
    "                var = np.var(h, axis=1)\n",
    "                self.mu = mean\n",
    "                self.v = var\n",
    "            if set_average:\n",
    "                self.mu_average = mean\n",
    "                self.v_average = var\n",
    "            h = np.diag(1 / np.sqrt(var+1e-6)) @ (h.T - mean).T\n",
    "            self.s_hat = h.copy()\n",
    "            h = ((h.T * self.gamma) + self.beta).T\n",
    "\n",
    "        if self.after and self.use_bn:\n",
    "            self.output = h\n",
    "            return h\n",
    "        if self.activation == 'relu':\n",
    "            self.output = relu(h)\n",
    "        else:\n",
    "            self.output = softmax(h)\n",
    "        return self.output\n",
    "    \n",
    "    def _batch_norm_back(self, g_in):\n",
    "        n = g_in.shape[1]\n",
    "        one_vector_col = np.ones([n, 1])\n",
    "        one_vector_row = np.ones([1, n])\n",
    "        \n",
    "        inv_sqrt_variance = 1 / np.sqrt(self.v + 1e-6)\n",
    "        inv_variance_1_5 = 1 / np.power(self.v + 1e-6, 1.5)\n",
    "    \n",
    "        gradient_wrt_norm_1 = (g_in.T * inv_sqrt_variance).T\n",
    "        gradient_wrt_norm_2 = (g_in.T * inv_variance_1_5).T\n",
    "    \n",
    "        diff_input_mean = (self.s.T - self.mu).T\n",
    "        dot_product = (gradient_wrt_norm_2 * diff_input_mean) @ one_vector_col\n",
    "    \n",
    "        mean_gradient = ((gradient_wrt_norm_1 @ one_vector_col) @ one_vector_row) / n\n",
    "        variance_adjusted_gradient = diff_input_mean * (dot_product @ one_vector_row) / n\n",
    "        \n",
    "        return gradient_wrt_norm_1 - mean_gradient - variance_adjusted_gradient\n",
    "\n",
    "\n",
    "    def backward(self, g_in):\n",
    "        n_batch = self.input.shape[1]\n",
    "        self.gradient = [None, None, None, None]\n",
    "        if self.activation == 'softmax':\n",
    "            gradient = g_in\n",
    "            g_W = gradient @ self.input.T / n_batch + 2 * self.lambda_ * self.W\n",
    "            g_b = np.mean(gradient, axis=1)\n",
    "            self.gradient[0] = g_W\n",
    "            self.gradient[1] = g_b\n",
    "\n",
    "        elif self.activation == 'relu':\n",
    "            gradient = g_in\n",
    "            if not self.after:\n",
    "                gradient = np.where(self.output > 0, gradient, 0)\n",
    "            if self.use_bn:\n",
    "                g_gamma = np.mean(gradient * self.s_hat, axis=1)\n",
    "                g_beta = np.mean(gradient, axis=1)\n",
    "                self.gradient[2] = g_gamma\n",
    "                self.gradient[3] = g_beta\n",
    "                n = gradient.shape[1]\n",
    "                gradient = (gradient.T * self.gamma).T\n",
    "                gradient = self._batch_norm_back(gradient)\n",
    "            if self.after:\n",
    "                gradient = np.where(self.s > 0, gradient, 0)\n",
    "            g_W = gradient @ self.input.T / n_batch + 2 * self.lambda_ * self.W\n",
    "            g_b = np.mean(gradient, axis=1)\n",
    "            self.gradient[0] = g_W\n",
    "            self.gradient[1] = g_b\n",
    "\n",
    "        return self.W.T @ gradient\n",
    "\n",
    "    def update(self, leraning_rate):\n",
    "        if type(self.gradient[0]) == type(None) or type(self.gradient[1]) == type(None):\n",
    "            raise Exception('First you must calculate gradient')\n",
    "        if not self.adam:\n",
    "            self.W -= leraning_rate * self.gradient[0]\n",
    "            self.b -= leraning_rate * self.gradient[1]\n",
    "            if self.use_bn:\n",
    "                self.gamma -= leraning_rate * self.gradient[2]\n",
    "                self.beta -= leraning_rate * self.gradient[3]\n",
    "                self.mu_average = self.alpha * \\\n",
    "                    self.mu_average + (1-self.alpha) * self.mu\n",
    "                self.v_average = self.alpha * \\\n",
    "                    self.v_average + (1-self.alpha) * self.v\n",
    "        if self.adam:\n",
    "            m_hat = [0, 0, 0, 0]\n",
    "            v_hat = [0, 0, 0, 0]\n",
    "            for i in range(4 if self.use_bn else 2):\n",
    "                self.adam_m[i] = 0.9 * self.adam_m[i] + 0.1 * self.gradient[i]\n",
    "                self.adam_v[i] = 0.999 * self.adam_v[i] + \\\n",
    "                    0.001 * np.square(self.gradient[i])\n",
    "                m_hat[i] = self.adam_m[i] / (1 - (0.9)**self.t)\n",
    "                v_hat[i] = self.adam_v[i] / (1 - (0.999)**self.t)\n",
    "            self.W -= leraning_rate * m_hat[0] / (np.sqrt(v_hat[0])+1e-8)\n",
    "            self.b -= leraning_rate * m_hat[1] / (np.sqrt(v_hat[1])+1e-8)\n",
    "            if self.use_bn:\n",
    "                self.gamma -= leraning_rate * \\\n",
    "                    m_hat[2] / (np.sqrt(v_hat[2])+1e-8)\n",
    "                self.beta -= leraning_rate * \\\n",
    "                    m_hat[3] / (np.sqrt(v_hat[3])+1e-8)\n",
    "                self.mu_average = self.alpha * \\\n",
    "                    self.mu_average + (1-self.alpha) * self.mu\n",
    "                self.v_average = self.alpha * \\\n",
    "                    self.v_average + (1-self.alpha) * self.v\n",
    "        self.t += 1\n",
    "        self.gradient = [None, None, None, None]\n",
    "\n",
    "\n",
    "class Model:\n",
    "    def __init__(self, n_in, number_of_units, n_out, lambda_, use_bn, after=False, adam=False) -> None:\n",
    "        if type(number_of_units) != list:\n",
    "            raise Exception('number of laters per units must be a list!')\n",
    "        self.layers = []\n",
    "        if len(number_of_units) == 0:\n",
    "            self.layers.append(Dense_layer(\n",
    "                n_in, n_out, 'softmax', lambda_, False, adam=adam))\n",
    "        else:\n",
    "            for n in number_of_units:\n",
    "                self.layers.append(Dense_layer(\n",
    "                    n_in, n, 'relu', lambda_, use_bn, after, adam=adam))\n",
    "                n_in = n\n",
    "            self.layers.append(Dense_layer(\n",
    "                n_in, n_out, 'softmax', lambda_, False, adam=adam))\n",
    "        self.use_bn = use_bn\n",
    "\n",
    "    def _forward(self, X, is_test):\n",
    "        x = X\n",
    "        for l in self.layers:\n",
    "            x = l.forward(x, is_test)\n",
    "        return x\n",
    "\n",
    "    def set_average(self, X):\n",
    "        x = X\n",
    "        for l in self.layers:\n",
    "            x = l.forward(x, False, True)\n",
    "        return x\n",
    "\n",
    "    def _backward(self, Y, P):\n",
    "        G = -(Y - P)\n",
    "        for l in self.layers[::-1]:\n",
    "            G = l.backward(G)\n",
    "\n",
    "    def _update(self, learning_rate):\n",
    "        for l in self.layers:\n",
    "            l.update(learning_rate)\n",
    "\n",
    "    def _loss(self, Y, P):\n",
    "        minus_log = -1 * np.log(np.sum(P * Y, axis=0))\n",
    "        return minus_log.mean()\n",
    "\n",
    "    def _cost(self, Y, P):\n",
    "        c = self._loss(Y, P)\n",
    "        for l in self.layers:\n",
    "            c += l.lambda_ * np.sum(np.square(l.W))\n",
    "        return c\n",
    "\n",
    "    def _accuracy(self, Y, P):\n",
    "        Y = Y.T\n",
    "        P = P.T\n",
    "        y_num = np.argmax(Y, axis=1)\n",
    "        y_pred = np.argmax(P, axis=1)\n",
    "        return np.where(y_num == y_pred, 1, 0).sum() / y_num.shape[0]\n",
    "\n",
    "    def _shuffle(self, X, Y, Z=None):\n",
    "        n = X.shape[1]\n",
    "        idx = np.random.permutation(n)\n",
    "        if type(Z) == type(None):\n",
    "            return X[:, idx], Y[:, idx]\n",
    "        return X[:, idx], Y[:, idx], Z[:, idx]\n",
    "\n",
    "    def _numerical_gradient(self, X, Y):\n",
    "        h = 1e-6\n",
    "        G_Ws = []\n",
    "        G_bs = []\n",
    "        G_gammas = []\n",
    "        G_betas = []\n",
    "        c = self._cost(Y, self._forward(X, False))\n",
    "        for idx, l in enumerate(self.layers):\n",
    "            g_w = np.zeros(l.W.shape)\n",
    "            g_b = np.zeros(l.b.shape)\n",
    "            w_save = l.W\n",
    "            b_save = l.b\n",
    "            for i in range(len(l.b)):\n",
    "                l.b = b_save.copy()\n",
    "                l.b[i] += h\n",
    "                c2 = self._cost(Y, self._forward(X, False))\n",
    "                g_b[i] = (c2-c) / h\n",
    "            l.b = b_save\n",
    "            for i in range(l.W.shape[0]):\n",
    "                for j in range(l.W.shape[1]):\n",
    "                    l.W = w_save.copy()\n",
    "                    l.W[i][j] += h\n",
    "                    c2 = self._cost(Y, self._forward(X, False))\n",
    "                    g_w[i][j] = (c2-c) / h\n",
    "            l.W = w_save\n",
    "            G_Ws.append(g_w)\n",
    "            G_bs.append(g_b)\n",
    "            if self.use_bn and idx < len(self.layers)-1:\n",
    "                g_gamma = np.zeros(l.gamma.shape)\n",
    "                g_beta = np.zeros(l.beta.shape)\n",
    "                gamma_save = l.gamma\n",
    "                for i in range(len(l.gamma)):\n",
    "                    l.gamma = gamma_save.copy()\n",
    "                    l.gamma[i] += h\n",
    "                    c2 = self._cost(Y, self._forward(X, False))\n",
    "                    g_gamma[i] = (c2 - c) / h\n",
    "                l.gamma = gamma_save\n",
    "                beta_save = l.beta\n",
    "                for i in range(len(l.beta)):\n",
    "                    l.beta = beta_save.copy()\n",
    "                    l.beta[i] += h\n",
    "                    c2 = self._cost(Y, self._forward(X, False))\n",
    "                    g_beta[i] = (c2 - c) / h\n",
    "                l.beta = beta_save\n",
    "                G_gammas.append(g_gamma)\n",
    "                G_betas.append(g_beta)\n",
    "\n",
    "        return G_Ws, G_bs, G_gammas, G_betas\n",
    "\n",
    "    def gradient_tester(self, X, Y):\n",
    "        saves = []\n",
    "        for l in self.layers:\n",
    "            saves.append((l.W, l.b))\n",
    "            l.W = np.random.normal(0, 2, l.W.shape)\n",
    "            l.b = np.random.normal(0, 2, l.b.shape)\n",
    "        G_Ws, G_bs, G_gammas, G_betas = self._numerical_gradient(X, Y)\n",
    "        self._backward(Y, self._forward(X, False))\n",
    "        for i, l in enumerate(self.layers):\n",
    "            print(f'layer {i}:')\n",
    "            diff = G_Ws[i] - l.gradient[0]\n",
    "            print(\n",
    "                f'\\tW: mean={l.gradient[0].mean()} std={l.gradient[0].std()} mean_diff={diff.mean()} std_diff={diff.std()} max_diff={diff.max()}')\n",
    "            diff = G_bs[i] - l.gradient[1]\n",
    "            print(\n",
    "                f'\\tb: mean={l.gradient[1].mean()} std={l.gradient[1].std()} mean_diff={diff.mean()} std_diff={diff.std()} max_diff={diff.max()}')\n",
    "            if self.use_bn and i < len(G_Ws)-1:\n",
    "                diff = G_gammas[i] - l.gradient[2]\n",
    "                print(\n",
    "                    f'\\tgamma: mean={l.gradient[2].mean()} std={l.gradient[2].std()} mean_diff={diff.mean()} std_diff={diff.std()} max_diff={diff.max()}')\n",
    "                diff = G_betas[i] - l.gradient[3]\n",
    "                print(\n",
    "                    f'\\tbetas: mean={l.gradient[3].mean()} std={l.gradient[3].std()} mean_diff={diff.mean()} std_diff={diff.std()} max_diff={diff.max()}')\n",
    "\n",
    "            print('-----------')\n",
    "            l.W = saves[i][0]\n",
    "            l.b = saves[i][1]\n",
    "\n",
    "    def evaluate(self, X, Y):\n",
    "        P = self._forward(X, True)\n",
    "        return [self._loss(Y, P), self._cost(Y, P), self._accuracy(Y, P)]\n",
    "\n",
    "    def fit(self, X, Y, learning_rate, epochs, batch_size, x_val, y_val, lr_scheduler=None, plot_iter=10):\n",
    "        n = X.shape[1]\n",
    "        logs = {'train_loss': [], 'train_acc': [], 'train_cost': []}\n",
    "        logs['val_loss'] = []\n",
    "        logs['val_acc'] = []\n",
    "        logs['val_cost'] = []\n",
    "        iter = 0\n",
    "        for e in range(epochs):\n",
    "            X, Y = self._shuffle(X, Y)\n",
    "            print(f'epoch{e+1}/{epochs}')\n",
    "            with tqdm(range(0, (n//batch_size)+1)) as pbar:\n",
    "                for i in pbar:\n",
    "                    start_index, end_index = i*batch_size, (i+1)*batch_size\n",
    "                    if i*batch_size == min(n, end_index):\n",
    "                        break\n",
    "                    x = X[:, start_index: end_index]\n",
    "                    y = Y[:, start_index: end_index]\n",
    "                    p = self._forward(x, False)\n",
    "                    self._backward(y, p)\n",
    "                    # pbar.set_description(f'loss:{self._cost(y, p):.3f}')\n",
    "                    if type(lr_scheduler) != type(None):\n",
    "                        learning_rate = lr_scheduler(iter, learning_rate)\n",
    "                    self._update(learning_rate)\n",
    "                    if i % plot_iter == 0:\n",
    "                        loss_val, cost_val, acc_val = self.evaluate(\n",
    "                            x_val, y_val)\n",
    "                        loss_train, cost_train, acc_train = self.evaluate(X, Y)\n",
    "                        logs['train_loss'].append(loss_train)\n",
    "                        logs['train_cost'].append(cost_train)\n",
    "                        logs['train_acc'].append(acc_train)\n",
    "                        logs['val_loss'].append(loss_val)\n",
    "                        logs['val_cost'].append(cost_val)\n",
    "                        logs['val_acc'].append(acc_val)\n",
    "                    iter += 1\n",
    "            loss_val, cost_val, acc_val = self.evaluate(\n",
    "                x_val, y_val)\n",
    "            loss_train, cost_train, acc_train = self.evaluate(X, Y)\n",
    "            logs['train_loss'].append(loss_train)\n",
    "            logs['train_cost'].append(cost_train)\n",
    "            logs['train_acc'].append(acc_train)\n",
    "            logs['val_loss'].append(loss_val)\n",
    "            logs['val_cost'].append(cost_val)\n",
    "            logs['val_acc'].append(acc_val)\n",
    "        return logs\n",
    "\n",
    "\n",
    "if __name__ == '__main__':\n",
    "    x_train, x_val, x_test, y_train, y_val, y_test, mean, std = get_data(\n",
    "        os.path.join(os.getcwd(), 'datasets'))\n",
    "\n",
    "\n",
    "\n",
    "    model = Model(x_train.shape[0], [10, 10], 10, 0.0, True)\n",
    "    logs = model.fit(x_train, y_train, 0.01, 12, 20, x_val, y_val)\n",
    "    plt.plot(logs['val_loss'])\n",
    "    print(model.evaluate(x_test, y_test))\n",
    "    plt.show()\n",
    " \n"
   ]
  },
  {
   "cell_type": "code",
   "execution_count": 4,
   "metadata": {},
   "outputs": [],
   "source": [
    "\n",
    "\n",
    "n_in = 3072\n",
    "n_out = 10\n",
    "n_batch = 100\n",
    "\n",
    "\n",
    "def make_circular_scheduler(max_lr, min_lr, n_s, decay_max=False, decay_factor=0.8):\n",
    "    def scheduler(iter, lr):\n",
    "        nonlocal max_lr\n",
    "        quotient = iter // n_s\n",
    "        if decay_max and iter > 0 and iter % (2*n_s) == 0:\n",
    "            max_lr = max_lr * decay_factor\n",
    "        if quotient % 2 == 0:  # increasing part\n",
    "            return min_lr + (iter - quotient*n_s) * (max_lr - min_lr) / n_s\n",
    "        else:  # decreasing part\n",
    "            return max_lr - (iter - quotient*n_s) * (max_lr - min_lr) / n_s\n",
    "    return scheduler\n",
    "\n",
    "\n",
    "def logs_plotter(logs, name, factor=10):\n",
    "    n_epochs = len(logs['train_loss'])\n",
    "    plt.plot([i*factor+1 for i in range(n_epochs)],\n",
    "             logs['train_loss'], label='train loss')\n",
    "    plt.plot([i*factor+1 for i in range(n_epochs)],\n",
    "             logs['val_loss'], label='validation loss')\n",
    "    plt.legend()\n",
    "    plt.title('Loss over training')\n",
    "    plt.savefig(f'results/{name}_loss.png')\n",
    "    plt.close()\n",
    "\n",
    "    plt.plot([i*factor+1 for i in range(n_epochs)],\n",
    "             logs['train_cost'], label='train cost')\n",
    "    plt.plot([i*10+1 for i in range(n_epochs)],\n",
    "             logs['val_cost'], label='validation cost')\n",
    "    plt.legend()\n",
    "    plt.title('Cost over training')\n",
    "    plt.savefig(f'results/{name}_cost.png')\n",
    "    plt.close()\n",
    "\n",
    "    plt.plot([i*factor+1 for i in range(n_epochs)],\n",
    "             logs['train_acc'], label='train accuracy')\n",
    "    plt.plot([i*factor+1 for i in range(n_epochs)],\n",
    "             logs['val_acc'], label='validation accuracy')\n",
    "    plt.legend()\n",
    "    plt.title('Accuracy over training')\n",
    "    plt.savefig(f'results/{name}_acc.png')\n",
    "    plt.close()\n",
    "\n",
    "\n",
    "def test_gradient():\n",
    "    x_train, x_val, x_test, y_train, y_val, y_test, mean, std = get_data(\n",
    "        os.path.join(os.getcwd(), 'datasets'))\n",
    "\n",
    "    model = Model(10, [5, 5], n_out, 0.01, False)\n",
    "    print('model with no batch norm')\n",
    "    model.gradient_tester(x_train[:10, :10], y_train[:10, :10])\n",
    "    model = Model(10, [5, 5], n_out, 0.01, True)\n",
    "    print('model with batch norm')\n",
    "    model.gradient_tester(x_train[:10, :10], y_train[:10, :10])\n",
    "\n",
    "\n",
    "def exercise_2_1():\n",
    "    x_train, x_val, x_test, y_train, y_val, y_test, mean, std = get_data(\n",
    "        os.path.join(os.getcwd(), 'datasets'))\n",
    "    x_train, y_train = x_train[:45000], y_train[:45000]\n",
    "\n",
    "    model = Model(n_in, [50, 50], n_out, 0.005, False)\n",
    "    scheduler = make_circular_scheduler(0.1, 1e-5, 5*45000/n_batch)\n",
    "    logs = model.fit(x_train, y_train, 0.01, 20,\n",
    "                     n_batch, x_val, y_val, scheduler)\n",
    "    logs_plotter(logs, 'ex2_no_batch')\n",
    "    with open('results/ex2.txt', 'a') as f:\n",
    "        f.write(\n",
    "            f'no_batch_norm: test_set:{model.evaluate(x_test, y_test)}, val_test:{model.evaluate(x_val, y_val)}\\n')\n",
    "\n",
    "    model = Model(n_in, [50, 50], n_out, 0.005, True)\n",
    "    scheduler = make_circular_scheduler(0.1, 1e-5, 5*45000/n_batch)\n",
    "    logs = model.fit(x_train, y_train, 0.01, 20,\n",
    "                     n_batch, x_val, y_val, scheduler)\n",
    "    logs_plotter(logs, 'ex2_with_batch')\n",
    "    with open('results/ex2.txt', 'a') as f:\n",
    "        f.write(\n",
    "            f'with_batch_norm: test_set:{model.evaluate(x_test, y_test)}, val_test:{model.evaluate(x_val, y_val)}\\n')\n",
    "\n",
    "\n",
    "def exersice_2_2():\n",
    "    x_train, x_val, x_test, y_train, y_val, y_test, mean, std = get_data(\n",
    "        os.path.join(os.getcwd(), 'datasets'))\n",
    "    x_train, y_train = x_train[:45000], y_train[:45000]\n",
    "\n",
    "    model = Model(n_in, [50, 30, 20, 20, 10, 10, 10], n_out, 0.005, False)\n",
    "    scheduler = make_circular_scheduler(0.1, 1e-5, 5*45000/n_batch)\n",
    "    logs = model.fit(x_train, y_train, 0.01, 20,\n",
    "                     n_batch, x_val, y_val, scheduler)\n",
    "    logs_plotter(logs, 'ex2_9layer_no_batch')\n",
    "    with open('results/ex2.txt', 'a') as f:\n",
    "        f.write(\n",
    "            f'no_batch_norm 9layer: test_set:{model.evaluate(x_test, y_test)}, val_test:{model.evaluate(x_val, y_val)}\\n')\n",
    "\n",
    "    model = Model(n_in, [50, 30, 20, 20, 10, 10, 10], n_out, 0.005, True)\n",
    "    scheduler = make_circular_scheduler(0.1, 1e-5, 5*45000/n_batch)\n",
    "    logs = model.fit(x_train, y_train, 0.01, 20,\n",
    "                     n_batch, x_val, y_val, scheduler)\n",
    "    logs_plotter(logs, 'ex2_with_batch_9layer')\n",
    "    with open('results/ex2.txt', 'a') as f:\n",
    "        f.write(\n",
    "            f'with_batch_norm 9layer: test_set:{model.evaluate(x_test, y_test)}, val_test:{model.evaluate(x_val, y_val)}\\n')\n",
    "\n",
    "\n",
    "def initial_sensitivity():\n",
    "    x_train, x_val, x_test, y_train, y_val, y_test, mean, std = get_data(\n",
    "        os.path.join(os.getcwd(), 'datasets'))\n",
    "    x_train, y_train = x_train[:45000], y_train[:45000]\n",
    "    scheduler = make_circular_scheduler(0.1, 1e-5, 2*45000/n_batch)\n",
    "    for sigma in [1e-1, 1e-3, 1e-4]:\n",
    "        for use_bn in [True, False]:\n",
    "            model = Model(n_in, [50, 50], n_out, 0.005, use_bn)\n",
    "            # chainging the weights\n",
    "            for l in model.layers:\n",
    "                l.W = np.random.normal(0, sigma, l.W.shape)\n",
    "            logs = model.fit(x_train, y_train, 0.01, 8,\n",
    "                             n_batch, x_val, y_val, scheduler)\n",
    "            logs_plotter(logs, f'sens_sigma_{sigma}_use_bn_{use_bn}')\n",
    "            with open('results/weight_sens.txt', 'a') as f:\n",
    "                f.write(\n",
    "                    f'sigma={sigma} use_bn={use_bn}, result_on_test={model.evaluate(x_test, y_test)}\\n')\n",
    "\n",
    "\n",
    "def lambda_search():\n",
    "    x_train, x_val, x_test, y_train, y_val, y_test, mean, std = get_data(\n",
    "        os.path.join(os.getcwd(), 'datasets'))\n",
    "    x_train, y_train = x_train[:45000], y_train[:45000]\n",
    "    scheduler = make_circular_scheduler(0.1, 1e-5, 2*45000/n_batch)\n",
    "    for lambda_ in [0.1, 0.05, 0.01, 0.005, 0.001, 0.0001, 0.0]:\n",
    "        model = Model(n_in, [50, 50], n_out, lambda_, True)\n",
    "        model.fit(x_train, y_train, 0.01, 8,\n",
    "                  n_batch, x_val, y_val, scheduler)\n",
    "        with open('results/lambda_search.txt', 'a') as f:\n",
    "            f.write(\n",
    "                f'lambda={lambda_}  result_on_test={model.evaluate(x_test, y_test)}, result_on_val={model.evaluate(x_val, y_val)}\\n')\n",
    "\n",
    "\n",
    "def average_set():\n",
    "    x_train, x_val, x_test, y_train, y_val, y_test, mean, std = get_data(\n",
    "        os.path.join(os.getcwd(), 'datasets'))\n",
    "    x_train, y_train = x_train[:45000], y_train[:45000]\n",
    "    model = Model(n_in, [50, 50], n_out, 0.005, True)\n",
    "    scheduler = make_circular_scheduler(0.1, 1e-5, 5*45000/n_batch)\n",
    "    logs = model.fit(x_train, y_train, 0.01, 20,\n",
    "                     n_batch, x_val, y_val, scheduler)\n",
    "    model.set_average(x_train[:10000])\n",
    "    with open('results/set_average.txt', 'a') as f:\n",
    "        f.write(\n",
    "            f'no_batch_norm: test_set:{model.evaluate(x_test, y_test)}, val_test:{model.evaluate(x_val, y_val)}\\n')\n",
    "\n",
    "\n",
    "def adaptive_bn():\n",
    "    x_train, x_val, x_test, y_train, y_val, y_test, mean, std = get_data(\n",
    "        os.path.join(os.getcwd(), 'datasets'))\n",
    "    x_train, y_train = x_train[:45000], y_train[:45000]\n",
    "    model = Model(n_in, [50, 50], n_out, 0.005, True)\n",
    "    scheduler = make_circular_scheduler(0.1, 1e-5, 5*45000/n_batch)\n",
    "    model.fit(x_train, y_train, 0.01, 20,\n",
    "              n_batch, x_val, y_val, scheduler)\n",
    "    flipped_test = flip(x_test)\n",
    "    length = 10000\n",
    "    condition = np.ones((n_in, length)) * \\\n",
    "        np.random.binomial(1, 0.5, length)\n",
    "    x_avg = np.where(\n",
    "        condition > 0.5, x_test[:, :length], flipped_test[:, :length])\n",
    "    model.set_average(x_avg)\n",
    "    with open('results/adaptive.txt', 'a') as f:\n",
    "        f.write(\n",
    "            f'test_set:{model.evaluate(x_test, y_test)}, val_test:{model.evaluate(x_val, y_val)}\\n')\n",
    "\n",
    "\n",
    "def after_tester():\n",
    "    x_train, x_val, x_test, y_train, y_val, y_test, mean, std = get_data(\n",
    "        os.path.join(os.getcwd(), 'datasets'))\n",
    "    x_train, y_train = x_train[:45000], y_train[:45000]\n",
    "    model = Model(n_in, [50, 50], n_out, 0.005, True, True)\n",
    "    scheduler = make_circular_scheduler(0.1, 1e-5, 5*45000/n_batch)\n",
    "    logs = model.fit(x_train, y_train, 0.01, 20,\n",
    "                     n_batch, x_val, y_val, scheduler)\n",
    "    with open('results/after.txt', 'a') as f:\n",
    "        f.write(\n",
    "            f'after: test_set:{model.evaluate(x_test, y_test)}, val_test:{model.evaluate(x_val, y_val)}\\n')\n",
    "\n",
    "\n",
    "def adam():\n",
    "    x_train, x_val, x_test, y_train, y_val, y_test, mean, std = get_data(\n",
    "        os.path.join(os.getcwd(), 'datasets'))\n",
    "    x_train, y_train = x_train[:45000], y_train[:45000]\n",
    "    model = Model(n_in, [50, 50], n_out, 0.005, True, False, True)\n",
    "    scheduler = make_circular_scheduler(0.1, 1e-5, 5*45000/n_batch, True, 0.6)\n",
    "    logs = model.fit(x_train, y_train, 0.01, 30,\n",
    "                     n_batch, x_val, y_val, scheduler)\n",
    "    file_path = 'results/adam.txt'\n",
    "    if not os.path.exists(file_path):\n",
    "        with open('results/adam.txt', 'a') as f:\n",
    "            f.write(\n",
    "                f'adam: test_set:{model.evaluate(x_test, y_test)}, val_test:{model.evaluate(x_val, y_val)}\\n')\n",
    "\n",
    "\n",
    "\n",
    "\n",
    "def more_hidden():\n",
    "    x_train, x_val, x_test, y_train, y_val, y_test, mean, std = get_data(\n",
    "        os.path.join(os.getcwd(), 'datasets'))\n",
    "    x_train, y_train = x_train[:45000], y_train[:45000]\n",
    "    model = Model(n_in, [50, 30, 30, 30, 20, 20, 20, 20],\n",
    "                  n_out, 0.005, True, False, False)\n",
    "    scheduler = make_circular_scheduler(0.1, 1e-5, 5*45000/n_batch)\n",
    "    logs = model.fit(x_train, y_train, 0.01, 20,\n",
    "                     n_batch, x_val, y_val, scheduler)\n",
    "    # Check if the file exists, and create it if it doesn't\n",
    "    file_path = 'results/bigger.txt'\n",
    "    if not os.path.exists(file_path):\n",
    "        with open(file_path, 'w') as f:\n",
    "            f.write('bigger:\\n')\n",
    "    # Append the results to the file\n",
    "    with open(file_path, 'a') as f:\n",
    "        f.write(f'test_set:{model.evaluate(x_test, y_test)}, val_test:{model.evaluate(x_val, y_val)}\\n')\n",
    "\n",
    "\n"
   ]
  },
  {
   "cell_type": "code",
   "execution_count": 5,
   "metadata": {},
   "outputs": [
    {
     "name": "stdout",
     "output_type": "stream",
     "text": [
      "epoch1/20\n"
     ]
    },
    {
     "name": "stderr",
     "output_type": "stream",
     "text": [
      " 99%|█████████▉| 100/101 [00:01<00:00, 57.01it/s]\n"
     ]
    },
    {
     "name": "stdout",
     "output_type": "stream",
     "text": [
      "epoch2/20\n"
     ]
    },
    {
     "name": "stderr",
     "output_type": "stream",
     "text": [
      " 99%|█████████▉| 100/101 [00:01<00:00, 57.71it/s]\n"
     ]
    },
    {
     "name": "stdout",
     "output_type": "stream",
     "text": [
      "epoch3/20\n"
     ]
    },
    {
     "name": "stderr",
     "output_type": "stream",
     "text": [
      " 99%|█████████▉| 100/101 [00:01<00:00, 60.01it/s]\n"
     ]
    },
    {
     "name": "stdout",
     "output_type": "stream",
     "text": [
      "epoch4/20\n"
     ]
    },
    {
     "name": "stderr",
     "output_type": "stream",
     "text": [
      " 99%|█████████▉| 100/101 [00:01<00:00, 59.57it/s]\n"
     ]
    },
    {
     "name": "stdout",
     "output_type": "stream",
     "text": [
      "epoch5/20\n"
     ]
    },
    {
     "name": "stderr",
     "output_type": "stream",
     "text": [
      " 99%|█████████▉| 100/101 [00:01<00:00, 60.35it/s]\n"
     ]
    },
    {
     "name": "stdout",
     "output_type": "stream",
     "text": [
      "epoch6/20\n"
     ]
    },
    {
     "name": "stderr",
     "output_type": "stream",
     "text": [
      " 99%|█████████▉| 100/101 [00:01<00:00, 59.79it/s]\n"
     ]
    },
    {
     "name": "stdout",
     "output_type": "stream",
     "text": [
      "epoch7/20\n"
     ]
    },
    {
     "name": "stderr",
     "output_type": "stream",
     "text": [
      " 99%|█████████▉| 100/101 [00:01<00:00, 58.25it/s]\n"
     ]
    },
    {
     "name": "stdout",
     "output_type": "stream",
     "text": [
      "epoch8/20\n"
     ]
    },
    {
     "name": "stderr",
     "output_type": "stream",
     "text": [
      " 99%|█████████▉| 100/101 [00:01<00:00, 59.72it/s]\n"
     ]
    },
    {
     "name": "stdout",
     "output_type": "stream",
     "text": [
      "epoch9/20\n"
     ]
    },
    {
     "name": "stderr",
     "output_type": "stream",
     "text": [
      " 99%|█████████▉| 100/101 [00:01<00:00, 58.66it/s]\n"
     ]
    },
    {
     "name": "stdout",
     "output_type": "stream",
     "text": [
      "epoch10/20\n"
     ]
    },
    {
     "name": "stderr",
     "output_type": "stream",
     "text": [
      " 99%|█████████▉| 100/101 [00:01<00:00, 54.95it/s]\n"
     ]
    },
    {
     "name": "stdout",
     "output_type": "stream",
     "text": [
      "epoch11/20\n"
     ]
    },
    {
     "name": "stderr",
     "output_type": "stream",
     "text": [
      " 99%|█████████▉| 100/101 [00:01<00:00, 60.05it/s]\n"
     ]
    },
    {
     "name": "stdout",
     "output_type": "stream",
     "text": [
      "epoch12/20\n"
     ]
    },
    {
     "name": "stderr",
     "output_type": "stream",
     "text": [
      " 99%|█████████▉| 100/101 [00:01<00:00, 59.61it/s]\n"
     ]
    },
    {
     "name": "stdout",
     "output_type": "stream",
     "text": [
      "epoch13/20\n"
     ]
    },
    {
     "name": "stderr",
     "output_type": "stream",
     "text": [
      " 99%|█████████▉| 100/101 [00:01<00:00, 60.67it/s]\n"
     ]
    },
    {
     "name": "stdout",
     "output_type": "stream",
     "text": [
      "epoch14/20\n"
     ]
    },
    {
     "name": "stderr",
     "output_type": "stream",
     "text": [
      " 99%|█████████▉| 100/101 [00:01<00:00, 61.75it/s]\n"
     ]
    },
    {
     "name": "stdout",
     "output_type": "stream",
     "text": [
      "epoch15/20\n"
     ]
    },
    {
     "name": "stderr",
     "output_type": "stream",
     "text": [
      " 99%|█████████▉| 100/101 [00:01<00:00, 59.26it/s]\n"
     ]
    },
    {
     "name": "stdout",
     "output_type": "stream",
     "text": [
      "epoch16/20\n"
     ]
    },
    {
     "name": "stderr",
     "output_type": "stream",
     "text": [
      " 99%|█████████▉| 100/101 [00:01<00:00, 59.49it/s]\n"
     ]
    },
    {
     "name": "stdout",
     "output_type": "stream",
     "text": [
      "epoch17/20\n"
     ]
    },
    {
     "name": "stderr",
     "output_type": "stream",
     "text": [
      " 99%|█████████▉| 100/101 [00:01<00:00, 59.22it/s]\n"
     ]
    },
    {
     "name": "stdout",
     "output_type": "stream",
     "text": [
      "epoch18/20\n"
     ]
    },
    {
     "name": "stderr",
     "output_type": "stream",
     "text": [
      " 99%|█████████▉| 100/101 [00:01<00:00, 59.34it/s]\n"
     ]
    },
    {
     "name": "stdout",
     "output_type": "stream",
     "text": [
      "epoch19/20\n"
     ]
    },
    {
     "name": "stderr",
     "output_type": "stream",
     "text": [
      " 99%|█████████▉| 100/101 [00:01<00:00, 58.45it/s]\n"
     ]
    },
    {
     "name": "stdout",
     "output_type": "stream",
     "text": [
      "epoch20/20\n"
     ]
    },
    {
     "name": "stderr",
     "output_type": "stream",
     "text": [
      " 99%|█████████▉| 100/101 [00:01<00:00, 57.91it/s]\n"
     ]
    },
    {
     "name": "stdout",
     "output_type": "stream",
     "text": [
      "epoch1/20\n"
     ]
    },
    {
     "name": "stderr",
     "output_type": "stream",
     "text": [
      " 99%|█████████▉| 100/101 [00:02<00:00, 45.39it/s]\n"
     ]
    },
    {
     "name": "stdout",
     "output_type": "stream",
     "text": [
      "epoch2/20\n"
     ]
    },
    {
     "name": "stderr",
     "output_type": "stream",
     "text": [
      " 99%|█████████▉| 100/101 [00:01<00:00, 51.19it/s]\n"
     ]
    },
    {
     "name": "stdout",
     "output_type": "stream",
     "text": [
      "epoch3/20\n"
     ]
    },
    {
     "name": "stderr",
     "output_type": "stream",
     "text": [
      " 99%|█████████▉| 100/101 [00:02<00:00, 49.48it/s]\n"
     ]
    },
    {
     "name": "stdout",
     "output_type": "stream",
     "text": [
      "epoch4/20\n"
     ]
    },
    {
     "name": "stderr",
     "output_type": "stream",
     "text": [
      " 99%|█████████▉| 100/101 [00:02<00:00, 48.56it/s]\n"
     ]
    },
    {
     "name": "stdout",
     "output_type": "stream",
     "text": [
      "epoch5/20\n"
     ]
    },
    {
     "name": "stderr",
     "output_type": "stream",
     "text": [
      " 99%|█████████▉| 100/101 [00:01<00:00, 51.30it/s]\n"
     ]
    },
    {
     "name": "stdout",
     "output_type": "stream",
     "text": [
      "epoch6/20\n"
     ]
    },
    {
     "name": "stderr",
     "output_type": "stream",
     "text": [
      " 99%|█████████▉| 100/101 [00:01<00:00, 51.02it/s]\n"
     ]
    },
    {
     "name": "stdout",
     "output_type": "stream",
     "text": [
      "epoch7/20\n"
     ]
    },
    {
     "name": "stderr",
     "output_type": "stream",
     "text": [
      " 99%|█████████▉| 100/101 [00:01<00:00, 51.37it/s]\n"
     ]
    },
    {
     "name": "stdout",
     "output_type": "stream",
     "text": [
      "epoch8/20\n"
     ]
    },
    {
     "name": "stderr",
     "output_type": "stream",
     "text": [
      " 99%|█████████▉| 100/101 [00:01<00:00, 51.37it/s]\n"
     ]
    },
    {
     "name": "stdout",
     "output_type": "stream",
     "text": [
      "epoch9/20\n"
     ]
    },
    {
     "name": "stderr",
     "output_type": "stream",
     "text": [
      " 99%|█████████▉| 100/101 [00:02<00:00, 48.19it/s]\n"
     ]
    },
    {
     "name": "stdout",
     "output_type": "stream",
     "text": [
      "epoch10/20\n"
     ]
    },
    {
     "name": "stderr",
     "output_type": "stream",
     "text": [
      " 99%|█████████▉| 100/101 [00:02<00:00, 47.03it/s]\n"
     ]
    },
    {
     "name": "stdout",
     "output_type": "stream",
     "text": [
      "epoch11/20\n"
     ]
    },
    {
     "name": "stderr",
     "output_type": "stream",
     "text": [
      " 99%|█████████▉| 100/101 [00:02<00:00, 49.28it/s]\n"
     ]
    },
    {
     "name": "stdout",
     "output_type": "stream",
     "text": [
      "epoch12/20\n"
     ]
    },
    {
     "name": "stderr",
     "output_type": "stream",
     "text": [
      " 99%|█████████▉| 100/101 [00:02<00:00, 39.72it/s]\n"
     ]
    },
    {
     "name": "stdout",
     "output_type": "stream",
     "text": [
      "epoch13/20\n"
     ]
    },
    {
     "name": "stderr",
     "output_type": "stream",
     "text": [
      " 99%|█████████▉| 100/101 [00:02<00:00, 48.12it/s]\n"
     ]
    },
    {
     "name": "stdout",
     "output_type": "stream",
     "text": [
      "epoch14/20\n"
     ]
    },
    {
     "name": "stderr",
     "output_type": "stream",
     "text": [
      " 99%|█████████▉| 100/101 [00:02<00:00, 49.69it/s]\n"
     ]
    },
    {
     "name": "stdout",
     "output_type": "stream",
     "text": [
      "epoch15/20\n"
     ]
    },
    {
     "name": "stderr",
     "output_type": "stream",
     "text": [
      " 99%|█████████▉| 100/101 [00:02<00:00, 49.61it/s]\n"
     ]
    },
    {
     "name": "stdout",
     "output_type": "stream",
     "text": [
      "epoch16/20\n"
     ]
    },
    {
     "name": "stderr",
     "output_type": "stream",
     "text": [
      " 99%|█████████▉| 100/101 [00:01<00:00, 50.57it/s]\n"
     ]
    },
    {
     "name": "stdout",
     "output_type": "stream",
     "text": [
      "epoch17/20\n"
     ]
    },
    {
     "name": "stderr",
     "output_type": "stream",
     "text": [
      " 99%|█████████▉| 100/101 [00:01<00:00, 50.52it/s]\n"
     ]
    },
    {
     "name": "stdout",
     "output_type": "stream",
     "text": [
      "epoch18/20\n"
     ]
    },
    {
     "name": "stderr",
     "output_type": "stream",
     "text": [
      " 99%|█████████▉| 100/101 [00:01<00:00, 50.23it/s]\n"
     ]
    },
    {
     "name": "stdout",
     "output_type": "stream",
     "text": [
      "epoch19/20\n"
     ]
    },
    {
     "name": "stderr",
     "output_type": "stream",
     "text": [
      " 99%|█████████▉| 100/101 [00:02<00:00, 44.58it/s]\n"
     ]
    },
    {
     "name": "stdout",
     "output_type": "stream",
     "text": [
      "epoch20/20\n"
     ]
    },
    {
     "name": "stderr",
     "output_type": "stream",
     "text": [
      " 99%|█████████▉| 100/101 [00:01<00:00, 50.72it/s]\n"
     ]
    }
   ],
   "source": [
    "exercise_2_1()"
   ]
  },
  {
   "cell_type": "code",
   "execution_count": 6,
   "metadata": {},
   "outputs": [
    {
     "name": "stdout",
     "output_type": "stream",
     "text": [
      "epoch1/20\n"
     ]
    },
    {
     "name": "stderr",
     "output_type": "stream",
     "text": [
      " 99%|█████████▉| 100/101 [00:01<00:00, 53.75it/s]\n"
     ]
    },
    {
     "name": "stdout",
     "output_type": "stream",
     "text": [
      "epoch2/20\n"
     ]
    },
    {
     "name": "stderr",
     "output_type": "stream",
     "text": [
      " 99%|█████████▉| 100/101 [00:01<00:00, 53.38it/s]\n"
     ]
    },
    {
     "name": "stdout",
     "output_type": "stream",
     "text": [
      "epoch3/20\n"
     ]
    },
    {
     "name": "stderr",
     "output_type": "stream",
     "text": [
      " 99%|█████████▉| 100/101 [00:01<00:00, 60.97it/s]\n"
     ]
    },
    {
     "name": "stdout",
     "output_type": "stream",
     "text": [
      "epoch4/20\n"
     ]
    },
    {
     "name": "stderr",
     "output_type": "stream",
     "text": [
      " 99%|█████████▉| 100/101 [00:01<00:00, 55.37it/s]\n"
     ]
    },
    {
     "name": "stdout",
     "output_type": "stream",
     "text": [
      "epoch5/20\n"
     ]
    },
    {
     "name": "stderr",
     "output_type": "stream",
     "text": [
      " 99%|█████████▉| 100/101 [00:01<00:00, 52.97it/s]\n"
     ]
    },
    {
     "name": "stdout",
     "output_type": "stream",
     "text": [
      "epoch6/20\n"
     ]
    },
    {
     "name": "stderr",
     "output_type": "stream",
     "text": [
      " 99%|█████████▉| 100/101 [00:01<00:00, 55.29it/s]\n"
     ]
    },
    {
     "name": "stdout",
     "output_type": "stream",
     "text": [
      "epoch7/20\n"
     ]
    },
    {
     "name": "stderr",
     "output_type": "stream",
     "text": [
      " 99%|█████████▉| 100/101 [00:01<00:00, 59.84it/s]\n"
     ]
    },
    {
     "name": "stdout",
     "output_type": "stream",
     "text": [
      "epoch8/20\n"
     ]
    },
    {
     "name": "stderr",
     "output_type": "stream",
     "text": [
      " 99%|█████████▉| 100/101 [00:01<00:00, 62.20it/s]\n"
     ]
    },
    {
     "name": "stdout",
     "output_type": "stream",
     "text": [
      "epoch9/20\n"
     ]
    },
    {
     "name": "stderr",
     "output_type": "stream",
     "text": [
      " 99%|█████████▉| 100/101 [00:01<00:00, 62.72it/s]\n"
     ]
    },
    {
     "name": "stdout",
     "output_type": "stream",
     "text": [
      "epoch10/20\n"
     ]
    },
    {
     "name": "stderr",
     "output_type": "stream",
     "text": [
      " 99%|█████████▉| 100/101 [00:01<00:00, 58.29it/s]\n"
     ]
    },
    {
     "name": "stdout",
     "output_type": "stream",
     "text": [
      "epoch11/20\n"
     ]
    },
    {
     "name": "stderr",
     "output_type": "stream",
     "text": [
      " 99%|█████████▉| 100/101 [00:01<00:00, 57.51it/s]\n"
     ]
    },
    {
     "name": "stdout",
     "output_type": "stream",
     "text": [
      "epoch12/20\n"
     ]
    },
    {
     "name": "stderr",
     "output_type": "stream",
     "text": [
      " 99%|█████████▉| 100/101 [00:01<00:00, 54.13it/s]\n"
     ]
    },
    {
     "name": "stdout",
     "output_type": "stream",
     "text": [
      "epoch13/20\n"
     ]
    },
    {
     "name": "stderr",
     "output_type": "stream",
     "text": [
      " 99%|█████████▉| 100/101 [00:01<00:00, 50.76it/s]\n"
     ]
    },
    {
     "name": "stdout",
     "output_type": "stream",
     "text": [
      "epoch14/20\n"
     ]
    },
    {
     "name": "stderr",
     "output_type": "stream",
     "text": [
      " 99%|█████████▉| 100/101 [00:01<00:00, 56.39it/s]\n"
     ]
    },
    {
     "name": "stdout",
     "output_type": "stream",
     "text": [
      "epoch15/20\n"
     ]
    },
    {
     "name": "stderr",
     "output_type": "stream",
     "text": [
      " 99%|█████████▉| 100/101 [00:01<00:00, 56.81it/s]\n"
     ]
    },
    {
     "name": "stdout",
     "output_type": "stream",
     "text": [
      "epoch16/20\n"
     ]
    },
    {
     "name": "stderr",
     "output_type": "stream",
     "text": [
      " 99%|█████████▉| 100/101 [00:01<00:00, 56.53it/s]\n"
     ]
    },
    {
     "name": "stdout",
     "output_type": "stream",
     "text": [
      "epoch17/20\n"
     ]
    },
    {
     "name": "stderr",
     "output_type": "stream",
     "text": [
      " 99%|█████████▉| 100/101 [00:01<00:00, 55.86it/s]\n"
     ]
    },
    {
     "name": "stdout",
     "output_type": "stream",
     "text": [
      "epoch18/20\n"
     ]
    },
    {
     "name": "stderr",
     "output_type": "stream",
     "text": [
      " 99%|█████████▉| 100/101 [00:01<00:00, 57.51it/s]\n"
     ]
    },
    {
     "name": "stdout",
     "output_type": "stream",
     "text": [
      "epoch19/20\n"
     ]
    },
    {
     "name": "stderr",
     "output_type": "stream",
     "text": [
      " 99%|█████████▉| 100/101 [00:01<00:00, 56.33it/s]\n"
     ]
    },
    {
     "name": "stdout",
     "output_type": "stream",
     "text": [
      "epoch20/20\n"
     ]
    },
    {
     "name": "stderr",
     "output_type": "stream",
     "text": [
      " 99%|█████████▉| 100/101 [00:01<00:00, 52.32it/s]\n"
     ]
    },
    {
     "name": "stdout",
     "output_type": "stream",
     "text": [
      "epoch1/20\n"
     ]
    },
    {
     "name": "stderr",
     "output_type": "stream",
     "text": [
      " 99%|█████████▉| 100/101 [00:02<00:00, 40.56it/s]\n"
     ]
    },
    {
     "name": "stdout",
     "output_type": "stream",
     "text": [
      "epoch2/20\n"
     ]
    },
    {
     "name": "stderr",
     "output_type": "stream",
     "text": [
      " 99%|█████████▉| 100/101 [00:02<00:00, 40.45it/s]\n"
     ]
    },
    {
     "name": "stdout",
     "output_type": "stream",
     "text": [
      "epoch3/20\n"
     ]
    },
    {
     "name": "stderr",
     "output_type": "stream",
     "text": [
      " 99%|█████████▉| 100/101 [00:02<00:00, 40.48it/s]\n"
     ]
    },
    {
     "name": "stdout",
     "output_type": "stream",
     "text": [
      "epoch4/20\n"
     ]
    },
    {
     "name": "stderr",
     "output_type": "stream",
     "text": [
      " 99%|█████████▉| 100/101 [00:02<00:00, 44.96it/s]\n"
     ]
    },
    {
     "name": "stdout",
     "output_type": "stream",
     "text": [
      "epoch5/20\n"
     ]
    },
    {
     "name": "stderr",
     "output_type": "stream",
     "text": [
      " 99%|█████████▉| 100/101 [00:02<00:00, 44.25it/s]\n"
     ]
    },
    {
     "name": "stdout",
     "output_type": "stream",
     "text": [
      "epoch6/20\n"
     ]
    },
    {
     "name": "stderr",
     "output_type": "stream",
     "text": [
      " 99%|█████████▉| 100/101 [00:02<00:00, 45.29it/s]\n"
     ]
    },
    {
     "name": "stdout",
     "output_type": "stream",
     "text": [
      "epoch7/20\n"
     ]
    },
    {
     "name": "stderr",
     "output_type": "stream",
     "text": [
      " 99%|█████████▉| 100/101 [00:02<00:00, 44.92it/s]\n"
     ]
    },
    {
     "name": "stdout",
     "output_type": "stream",
     "text": [
      "epoch8/20\n"
     ]
    },
    {
     "name": "stderr",
     "output_type": "stream",
     "text": [
      " 99%|█████████▉| 100/101 [00:02<00:00, 43.86it/s]\n"
     ]
    },
    {
     "name": "stdout",
     "output_type": "stream",
     "text": [
      "epoch9/20\n"
     ]
    },
    {
     "name": "stderr",
     "output_type": "stream",
     "text": [
      " 99%|█████████▉| 100/101 [00:02<00:00, 45.78it/s]\n"
     ]
    },
    {
     "name": "stdout",
     "output_type": "stream",
     "text": [
      "epoch10/20\n"
     ]
    },
    {
     "name": "stderr",
     "output_type": "stream",
     "text": [
      " 99%|█████████▉| 100/101 [00:02<00:00, 45.58it/s]\n"
     ]
    },
    {
     "name": "stdout",
     "output_type": "stream",
     "text": [
      "epoch11/20\n"
     ]
    },
    {
     "name": "stderr",
     "output_type": "stream",
     "text": [
      " 99%|█████████▉| 100/101 [00:02<00:00, 45.55it/s]\n"
     ]
    },
    {
     "name": "stdout",
     "output_type": "stream",
     "text": [
      "epoch12/20\n"
     ]
    },
    {
     "name": "stderr",
     "output_type": "stream",
     "text": [
      " 99%|█████████▉| 100/101 [00:02<00:00, 46.41it/s]\n"
     ]
    },
    {
     "name": "stdout",
     "output_type": "stream",
     "text": [
      "epoch13/20\n"
     ]
    },
    {
     "name": "stderr",
     "output_type": "stream",
     "text": [
      " 99%|█████████▉| 100/101 [00:02<00:00, 44.53it/s]\n"
     ]
    },
    {
     "name": "stdout",
     "output_type": "stream",
     "text": [
      "epoch14/20\n"
     ]
    },
    {
     "name": "stderr",
     "output_type": "stream",
     "text": [
      " 99%|█████████▉| 100/101 [00:02<00:00, 45.90it/s]\n"
     ]
    },
    {
     "name": "stdout",
     "output_type": "stream",
     "text": [
      "epoch15/20\n"
     ]
    },
    {
     "name": "stderr",
     "output_type": "stream",
     "text": [
      " 99%|█████████▉| 100/101 [00:02<00:00, 45.28it/s]\n"
     ]
    },
    {
     "name": "stdout",
     "output_type": "stream",
     "text": [
      "epoch16/20\n"
     ]
    },
    {
     "name": "stderr",
     "output_type": "stream",
     "text": [
      " 99%|█████████▉| 100/101 [00:02<00:00, 45.83it/s]\n"
     ]
    },
    {
     "name": "stdout",
     "output_type": "stream",
     "text": [
      "epoch17/20\n"
     ]
    },
    {
     "name": "stderr",
     "output_type": "stream",
     "text": [
      " 99%|█████████▉| 100/101 [00:02<00:00, 44.93it/s]\n"
     ]
    },
    {
     "name": "stdout",
     "output_type": "stream",
     "text": [
      "epoch18/20\n"
     ]
    },
    {
     "name": "stderr",
     "output_type": "stream",
     "text": [
      " 99%|█████████▉| 100/101 [00:02<00:00, 43.97it/s]\n"
     ]
    },
    {
     "name": "stdout",
     "output_type": "stream",
     "text": [
      "epoch19/20\n"
     ]
    },
    {
     "name": "stderr",
     "output_type": "stream",
     "text": [
      " 99%|█████████▉| 100/101 [00:02<00:00, 45.34it/s]\n"
     ]
    },
    {
     "name": "stdout",
     "output_type": "stream",
     "text": [
      "epoch20/20\n"
     ]
    },
    {
     "name": "stderr",
     "output_type": "stream",
     "text": [
      " 99%|█████████▉| 100/101 [00:02<00:00, 45.83it/s]\n"
     ]
    }
   ],
   "source": [
    "exersice_2_2()"
   ]
  },
  {
   "cell_type": "code",
   "execution_count": 7,
   "metadata": {},
   "outputs": [
    {
     "name": "stdout",
     "output_type": "stream",
     "text": [
      "epoch1/8\n"
     ]
    },
    {
     "name": "stderr",
     "output_type": "stream",
     "text": [
      " 99%|█████████▉| 100/101 [00:01<00:00, 53.25it/s]\n"
     ]
    },
    {
     "name": "stdout",
     "output_type": "stream",
     "text": [
      "epoch2/8\n"
     ]
    },
    {
     "name": "stderr",
     "output_type": "stream",
     "text": [
      " 99%|█████████▉| 100/101 [00:01<00:00, 53.70it/s]\n"
     ]
    },
    {
     "name": "stdout",
     "output_type": "stream",
     "text": [
      "epoch3/8\n"
     ]
    },
    {
     "name": "stderr",
     "output_type": "stream",
     "text": [
      " 99%|█████████▉| 100/101 [00:01<00:00, 53.63it/s]\n"
     ]
    },
    {
     "name": "stdout",
     "output_type": "stream",
     "text": [
      "epoch4/8\n"
     ]
    },
    {
     "name": "stderr",
     "output_type": "stream",
     "text": [
      " 99%|█████████▉| 100/101 [00:01<00:00, 51.37it/s]\n"
     ]
    },
    {
     "name": "stdout",
     "output_type": "stream",
     "text": [
      "epoch5/8\n"
     ]
    },
    {
     "name": "stderr",
     "output_type": "stream",
     "text": [
      " 99%|█████████▉| 100/101 [00:01<00:00, 53.49it/s]\n"
     ]
    },
    {
     "name": "stdout",
     "output_type": "stream",
     "text": [
      "epoch6/8\n"
     ]
    },
    {
     "name": "stderr",
     "output_type": "stream",
     "text": [
      " 99%|█████████▉| 100/101 [00:01<00:00, 53.72it/s]\n"
     ]
    },
    {
     "name": "stdout",
     "output_type": "stream",
     "text": [
      "epoch7/8\n"
     ]
    },
    {
     "name": "stderr",
     "output_type": "stream",
     "text": [
      " 99%|█████████▉| 100/101 [00:01<00:00, 53.27it/s]\n"
     ]
    },
    {
     "name": "stdout",
     "output_type": "stream",
     "text": [
      "epoch8/8\n"
     ]
    },
    {
     "name": "stderr",
     "output_type": "stream",
     "text": [
      " 99%|█████████▉| 100/101 [00:01<00:00, 53.66it/s]\n"
     ]
    },
    {
     "name": "stdout",
     "output_type": "stream",
     "text": [
      "epoch1/8\n"
     ]
    },
    {
     "name": "stderr",
     "output_type": "stream",
     "text": [
      " 99%|█████████▉| 100/101 [00:01<00:00, 51.09it/s]\n"
     ]
    },
    {
     "name": "stdout",
     "output_type": "stream",
     "text": [
      "epoch2/8\n"
     ]
    },
    {
     "name": "stderr",
     "output_type": "stream",
     "text": [
      " 99%|█████████▉| 100/101 [00:01<00:00, 50.31it/s]\n"
     ]
    },
    {
     "name": "stdout",
     "output_type": "stream",
     "text": [
      "epoch3/8\n"
     ]
    },
    {
     "name": "stderr",
     "output_type": "stream",
     "text": [
      " 99%|█████████▉| 100/101 [00:01<00:00, 52.30it/s]\n"
     ]
    },
    {
     "name": "stdout",
     "output_type": "stream",
     "text": [
      "epoch4/8\n"
     ]
    },
    {
     "name": "stderr",
     "output_type": "stream",
     "text": [
      " 99%|█████████▉| 100/101 [00:01<00:00, 53.55it/s]\n"
     ]
    },
    {
     "name": "stdout",
     "output_type": "stream",
     "text": [
      "epoch5/8\n"
     ]
    },
    {
     "name": "stderr",
     "output_type": "stream",
     "text": [
      " 99%|█████████▉| 100/101 [00:01<00:00, 55.40it/s]\n"
     ]
    },
    {
     "name": "stdout",
     "output_type": "stream",
     "text": [
      "epoch6/8\n"
     ]
    },
    {
     "name": "stderr",
     "output_type": "stream",
     "text": [
      " 99%|█████████▉| 100/101 [00:01<00:00, 54.37it/s]\n"
     ]
    },
    {
     "name": "stdout",
     "output_type": "stream",
     "text": [
      "epoch7/8\n"
     ]
    },
    {
     "name": "stderr",
     "output_type": "stream",
     "text": [
      " 99%|█████████▉| 100/101 [00:01<00:00, 55.90it/s]\n"
     ]
    },
    {
     "name": "stdout",
     "output_type": "stream",
     "text": [
      "epoch8/8\n"
     ]
    },
    {
     "name": "stderr",
     "output_type": "stream",
     "text": [
      " 99%|█████████▉| 100/101 [00:01<00:00, 54.42it/s]\n"
     ]
    },
    {
     "name": "stdout",
     "output_type": "stream",
     "text": [
      "epoch1/8\n"
     ]
    },
    {
     "name": "stderr",
     "output_type": "stream",
     "text": [
      " 99%|█████████▉| 100/101 [00:02<00:00, 47.29it/s]\n"
     ]
    },
    {
     "name": "stdout",
     "output_type": "stream",
     "text": [
      "epoch2/8\n"
     ]
    },
    {
     "name": "stderr",
     "output_type": "stream",
     "text": [
      " 99%|█████████▉| 100/101 [00:02<00:00, 41.80it/s]\n"
     ]
    },
    {
     "name": "stdout",
     "output_type": "stream",
     "text": [
      "epoch3/8\n"
     ]
    },
    {
     "name": "stderr",
     "output_type": "stream",
     "text": [
      " 99%|█████████▉| 100/101 [00:01<00:00, 52.06it/s]\n"
     ]
    },
    {
     "name": "stdout",
     "output_type": "stream",
     "text": [
      "epoch4/8\n"
     ]
    },
    {
     "name": "stderr",
     "output_type": "stream",
     "text": [
      " 99%|█████████▉| 100/101 [00:01<00:00, 51.78it/s]\n"
     ]
    },
    {
     "name": "stdout",
     "output_type": "stream",
     "text": [
      "epoch5/8\n"
     ]
    },
    {
     "name": "stderr",
     "output_type": "stream",
     "text": [
      " 99%|█████████▉| 100/101 [00:01<00:00, 51.84it/s]\n"
     ]
    },
    {
     "name": "stdout",
     "output_type": "stream",
     "text": [
      "epoch6/8\n"
     ]
    },
    {
     "name": "stderr",
     "output_type": "stream",
     "text": [
      " 99%|█████████▉| 100/101 [00:01<00:00, 52.15it/s]\n"
     ]
    },
    {
     "name": "stdout",
     "output_type": "stream",
     "text": [
      "epoch7/8\n"
     ]
    },
    {
     "name": "stderr",
     "output_type": "stream",
     "text": [
      " 99%|█████████▉| 100/101 [00:02<00:00, 49.77it/s]\n"
     ]
    },
    {
     "name": "stdout",
     "output_type": "stream",
     "text": [
      "epoch8/8\n"
     ]
    },
    {
     "name": "stderr",
     "output_type": "stream",
     "text": [
      " 99%|█████████▉| 100/101 [00:01<00:00, 51.26it/s]\n"
     ]
    },
    {
     "name": "stdout",
     "output_type": "stream",
     "text": [
      "epoch1/8\n"
     ]
    },
    {
     "name": "stderr",
     "output_type": "stream",
     "text": [
      " 99%|█████████▉| 100/101 [00:01<00:00, 54.02it/s]\n"
     ]
    },
    {
     "name": "stdout",
     "output_type": "stream",
     "text": [
      "epoch2/8\n"
     ]
    },
    {
     "name": "stderr",
     "output_type": "stream",
     "text": [
      " 99%|█████████▉| 100/101 [00:01<00:00, 50.16it/s]\n"
     ]
    },
    {
     "name": "stdout",
     "output_type": "stream",
     "text": [
      "epoch3/8\n"
     ]
    },
    {
     "name": "stderr",
     "output_type": "stream",
     "text": [
      " 99%|█████████▉| 100/101 [00:02<00:00, 44.53it/s]\n"
     ]
    },
    {
     "name": "stdout",
     "output_type": "stream",
     "text": [
      "epoch4/8\n"
     ]
    },
    {
     "name": "stderr",
     "output_type": "stream",
     "text": [
      " 99%|█████████▉| 100/101 [00:01<00:00, 55.88it/s]\n"
     ]
    },
    {
     "name": "stdout",
     "output_type": "stream",
     "text": [
      "epoch5/8\n"
     ]
    },
    {
     "name": "stderr",
     "output_type": "stream",
     "text": [
      " 99%|█████████▉| 100/101 [00:01<00:00, 55.78it/s]\n"
     ]
    },
    {
     "name": "stdout",
     "output_type": "stream",
     "text": [
      "epoch6/8\n"
     ]
    },
    {
     "name": "stderr",
     "output_type": "stream",
     "text": [
      " 99%|█████████▉| 100/101 [00:01<00:00, 54.91it/s]\n"
     ]
    },
    {
     "name": "stdout",
     "output_type": "stream",
     "text": [
      "epoch7/8\n"
     ]
    },
    {
     "name": "stderr",
     "output_type": "stream",
     "text": [
      " 99%|█████████▉| 100/101 [00:01<00:00, 56.82it/s]\n"
     ]
    },
    {
     "name": "stdout",
     "output_type": "stream",
     "text": [
      "epoch8/8\n"
     ]
    },
    {
     "name": "stderr",
     "output_type": "stream",
     "text": [
      " 99%|█████████▉| 100/101 [00:01<00:00, 55.57it/s]\n"
     ]
    },
    {
     "name": "stdout",
     "output_type": "stream",
     "text": [
      "epoch1/8\n"
     ]
    },
    {
     "name": "stderr",
     "output_type": "stream",
     "text": [
      " 99%|█████████▉| 100/101 [00:02<00:00, 44.13it/s]\n"
     ]
    },
    {
     "name": "stdout",
     "output_type": "stream",
     "text": [
      "epoch2/8\n"
     ]
    },
    {
     "name": "stderr",
     "output_type": "stream",
     "text": [
      " 99%|█████████▉| 100/101 [00:02<00:00, 49.11it/s]\n"
     ]
    },
    {
     "name": "stdout",
     "output_type": "stream",
     "text": [
      "epoch3/8\n"
     ]
    },
    {
     "name": "stderr",
     "output_type": "stream",
     "text": [
      " 99%|█████████▉| 100/101 [00:01<00:00, 51.00it/s]\n"
     ]
    },
    {
     "name": "stdout",
     "output_type": "stream",
     "text": [
      "epoch4/8\n"
     ]
    },
    {
     "name": "stderr",
     "output_type": "stream",
     "text": [
      " 99%|█████████▉| 100/101 [00:01<00:00, 51.69it/s]\n"
     ]
    },
    {
     "name": "stdout",
     "output_type": "stream",
     "text": [
      "epoch5/8\n"
     ]
    },
    {
     "name": "stderr",
     "output_type": "stream",
     "text": [
      " 99%|█████████▉| 100/101 [00:01<00:00, 52.38it/s]\n"
     ]
    },
    {
     "name": "stdout",
     "output_type": "stream",
     "text": [
      "epoch6/8\n"
     ]
    },
    {
     "name": "stderr",
     "output_type": "stream",
     "text": [
      " 99%|█████████▉| 100/101 [00:02<00:00, 49.54it/s]\n"
     ]
    },
    {
     "name": "stdout",
     "output_type": "stream",
     "text": [
      "epoch7/8\n"
     ]
    },
    {
     "name": "stderr",
     "output_type": "stream",
     "text": [
      " 99%|█████████▉| 100/101 [00:02<00:00, 48.07it/s]\n"
     ]
    },
    {
     "name": "stdout",
     "output_type": "stream",
     "text": [
      "epoch8/8\n"
     ]
    },
    {
     "name": "stderr",
     "output_type": "stream",
     "text": [
      " 99%|█████████▉| 100/101 [00:02<00:00, 47.09it/s]\n"
     ]
    },
    {
     "name": "stdout",
     "output_type": "stream",
     "text": [
      "epoch1/8\n"
     ]
    },
    {
     "name": "stderr",
     "output_type": "stream",
     "text": [
      " 99%|█████████▉| 100/101 [00:01<00:00, 52.48it/s]\n"
     ]
    },
    {
     "name": "stdout",
     "output_type": "stream",
     "text": [
      "epoch2/8\n"
     ]
    },
    {
     "name": "stderr",
     "output_type": "stream",
     "text": [
      " 99%|█████████▉| 100/101 [00:01<00:00, 52.76it/s]\n"
     ]
    },
    {
     "name": "stdout",
     "output_type": "stream",
     "text": [
      "epoch3/8\n"
     ]
    },
    {
     "name": "stderr",
     "output_type": "stream",
     "text": [
      " 99%|█████████▉| 100/101 [00:01<00:00, 57.55it/s]\n"
     ]
    },
    {
     "name": "stdout",
     "output_type": "stream",
     "text": [
      "epoch4/8\n"
     ]
    },
    {
     "name": "stderr",
     "output_type": "stream",
     "text": [
      " 99%|█████████▉| 100/101 [00:01<00:00, 58.43it/s]\n"
     ]
    },
    {
     "name": "stdout",
     "output_type": "stream",
     "text": [
      "epoch5/8\n"
     ]
    },
    {
     "name": "stderr",
     "output_type": "stream",
     "text": [
      " 99%|█████████▉| 100/101 [00:01<00:00, 58.51it/s]\n"
     ]
    },
    {
     "name": "stdout",
     "output_type": "stream",
     "text": [
      "epoch6/8\n"
     ]
    },
    {
     "name": "stderr",
     "output_type": "stream",
     "text": [
      " 99%|█████████▉| 100/101 [00:01<00:00, 52.93it/s]\n"
     ]
    },
    {
     "name": "stdout",
     "output_type": "stream",
     "text": [
      "epoch7/8\n"
     ]
    },
    {
     "name": "stderr",
     "output_type": "stream",
     "text": [
      " 99%|█████████▉| 100/101 [00:01<00:00, 57.87it/s]\n"
     ]
    },
    {
     "name": "stdout",
     "output_type": "stream",
     "text": [
      "epoch8/8\n"
     ]
    },
    {
     "name": "stderr",
     "output_type": "stream",
     "text": [
      " 99%|█████████▉| 100/101 [00:01<00:00, 57.82it/s]\n"
     ]
    }
   ],
   "source": [
    "initial_sensitivity()"
   ]
  },
  {
   "cell_type": "code",
   "execution_count": 8,
   "metadata": {},
   "outputs": [
    {
     "name": "stdout",
     "output_type": "stream",
     "text": [
      "epoch1/8\n"
     ]
    },
    {
     "name": "stderr",
     "output_type": "stream",
     "text": [
      " 99%|█████████▉| 100/101 [00:02<00:00, 48.63it/s]\n"
     ]
    },
    {
     "name": "stdout",
     "output_type": "stream",
     "text": [
      "epoch2/8\n"
     ]
    },
    {
     "name": "stderr",
     "output_type": "stream",
     "text": [
      " 99%|█████████▉| 100/101 [00:01<00:00, 52.18it/s]\n"
     ]
    },
    {
     "name": "stdout",
     "output_type": "stream",
     "text": [
      "epoch3/8\n"
     ]
    },
    {
     "name": "stderr",
     "output_type": "stream",
     "text": [
      " 99%|█████████▉| 100/101 [00:02<00:00, 46.29it/s]\n"
     ]
    },
    {
     "name": "stdout",
     "output_type": "stream",
     "text": [
      "epoch4/8\n"
     ]
    },
    {
     "name": "stderr",
     "output_type": "stream",
     "text": [
      " 99%|█████████▉| 100/101 [00:01<00:00, 50.12it/s]\n"
     ]
    },
    {
     "name": "stdout",
     "output_type": "stream",
     "text": [
      "epoch5/8\n"
     ]
    },
    {
     "name": "stderr",
     "output_type": "stream",
     "text": [
      " 99%|█████████▉| 100/101 [00:01<00:00, 52.55it/s]\n"
     ]
    },
    {
     "name": "stdout",
     "output_type": "stream",
     "text": [
      "epoch6/8\n"
     ]
    },
    {
     "name": "stderr",
     "output_type": "stream",
     "text": [
      " 99%|█████████▉| 100/101 [00:01<00:00, 52.49it/s]\n"
     ]
    },
    {
     "name": "stdout",
     "output_type": "stream",
     "text": [
      "epoch7/8\n"
     ]
    },
    {
     "name": "stderr",
     "output_type": "stream",
     "text": [
      " 99%|█████████▉| 100/101 [00:01<00:00, 52.37it/s]\n"
     ]
    },
    {
     "name": "stdout",
     "output_type": "stream",
     "text": [
      "epoch8/8\n"
     ]
    },
    {
     "name": "stderr",
     "output_type": "stream",
     "text": [
      " 99%|█████████▉| 100/101 [00:01<00:00, 52.28it/s]\n"
     ]
    },
    {
     "name": "stdout",
     "output_type": "stream",
     "text": [
      "epoch1/8\n"
     ]
    },
    {
     "name": "stderr",
     "output_type": "stream",
     "text": [
      " 99%|█████████▉| 100/101 [00:02<00:00, 47.32it/s]\n"
     ]
    },
    {
     "name": "stdout",
     "output_type": "stream",
     "text": [
      "epoch2/8\n"
     ]
    },
    {
     "name": "stderr",
     "output_type": "stream",
     "text": [
      " 99%|█████████▉| 100/101 [00:01<00:00, 52.08it/s]\n"
     ]
    },
    {
     "name": "stdout",
     "output_type": "stream",
     "text": [
      "epoch3/8\n"
     ]
    },
    {
     "name": "stderr",
     "output_type": "stream",
     "text": [
      " 99%|█████████▉| 100/101 [00:02<00:00, 49.83it/s]\n"
     ]
    },
    {
     "name": "stdout",
     "output_type": "stream",
     "text": [
      "epoch4/8\n"
     ]
    },
    {
     "name": "stderr",
     "output_type": "stream",
     "text": [
      " 99%|█████████▉| 100/101 [00:02<00:00, 49.98it/s]\n"
     ]
    },
    {
     "name": "stdout",
     "output_type": "stream",
     "text": [
      "epoch5/8\n"
     ]
    },
    {
     "name": "stderr",
     "output_type": "stream",
     "text": [
      " 99%|█████████▉| 100/101 [00:01<00:00, 52.39it/s]\n"
     ]
    },
    {
     "name": "stdout",
     "output_type": "stream",
     "text": [
      "epoch6/8\n"
     ]
    },
    {
     "name": "stderr",
     "output_type": "stream",
     "text": [
      " 99%|█████████▉| 100/101 [00:02<00:00, 47.72it/s]\n"
     ]
    },
    {
     "name": "stdout",
     "output_type": "stream",
     "text": [
      "epoch7/8\n"
     ]
    },
    {
     "name": "stderr",
     "output_type": "stream",
     "text": [
      " 99%|█████████▉| 100/101 [00:01<00:00, 52.04it/s]\n"
     ]
    },
    {
     "name": "stdout",
     "output_type": "stream",
     "text": [
      "epoch8/8\n"
     ]
    },
    {
     "name": "stderr",
     "output_type": "stream",
     "text": [
      " 99%|█████████▉| 100/101 [00:02<00:00, 48.22it/s]\n"
     ]
    },
    {
     "name": "stdout",
     "output_type": "stream",
     "text": [
      "epoch1/8\n"
     ]
    },
    {
     "name": "stderr",
     "output_type": "stream",
     "text": [
      " 99%|█████████▉| 100/101 [00:02<00:00, 45.31it/s]\n"
     ]
    },
    {
     "name": "stdout",
     "output_type": "stream",
     "text": [
      "epoch2/8\n"
     ]
    },
    {
     "name": "stderr",
     "output_type": "stream",
     "text": [
      " 99%|█████████▉| 100/101 [00:01<00:00, 51.99it/s]\n"
     ]
    },
    {
     "name": "stdout",
     "output_type": "stream",
     "text": [
      "epoch3/8\n"
     ]
    },
    {
     "name": "stderr",
     "output_type": "stream",
     "text": [
      " 99%|█████████▉| 100/101 [00:02<00:00, 46.76it/s]\n"
     ]
    },
    {
     "name": "stdout",
     "output_type": "stream",
     "text": [
      "epoch4/8\n"
     ]
    },
    {
     "name": "stderr",
     "output_type": "stream",
     "text": [
      " 99%|█████████▉| 100/101 [00:02<00:00, 43.11it/s]\n"
     ]
    },
    {
     "name": "stdout",
     "output_type": "stream",
     "text": [
      "epoch5/8\n"
     ]
    },
    {
     "name": "stderr",
     "output_type": "stream",
     "text": [
      " 99%|█████████▉| 100/101 [00:01<00:00, 52.25it/s]\n"
     ]
    },
    {
     "name": "stdout",
     "output_type": "stream",
     "text": [
      "epoch6/8\n"
     ]
    },
    {
     "name": "stderr",
     "output_type": "stream",
     "text": [
      " 99%|█████████▉| 100/101 [00:01<00:00, 51.47it/s]\n"
     ]
    },
    {
     "name": "stdout",
     "output_type": "stream",
     "text": [
      "epoch7/8\n"
     ]
    },
    {
     "name": "stderr",
     "output_type": "stream",
     "text": [
      " 99%|█████████▉| 100/101 [00:01<00:00, 52.49it/s]\n"
     ]
    },
    {
     "name": "stdout",
     "output_type": "stream",
     "text": [
      "epoch8/8\n"
     ]
    },
    {
     "name": "stderr",
     "output_type": "stream",
     "text": [
      " 99%|█████████▉| 100/101 [00:01<00:00, 52.70it/s]\n"
     ]
    },
    {
     "name": "stdout",
     "output_type": "stream",
     "text": [
      "epoch1/8\n"
     ]
    },
    {
     "name": "stderr",
     "output_type": "stream",
     "text": [
      " 99%|█████████▉| 100/101 [00:02<00:00, 45.10it/s]\n"
     ]
    },
    {
     "name": "stdout",
     "output_type": "stream",
     "text": [
      "epoch2/8\n"
     ]
    },
    {
     "name": "stderr",
     "output_type": "stream",
     "text": [
      " 99%|█████████▉| 100/101 [00:02<00:00, 46.11it/s]\n"
     ]
    },
    {
     "name": "stdout",
     "output_type": "stream",
     "text": [
      "epoch3/8\n"
     ]
    },
    {
     "name": "stderr",
     "output_type": "stream",
     "text": [
      " 99%|█████████▉| 100/101 [00:02<00:00, 49.84it/s]\n"
     ]
    },
    {
     "name": "stdout",
     "output_type": "stream",
     "text": [
      "epoch4/8\n"
     ]
    },
    {
     "name": "stderr",
     "output_type": "stream",
     "text": [
      " 99%|█████████▉| 100/101 [00:02<00:00, 48.85it/s]\n"
     ]
    },
    {
     "name": "stdout",
     "output_type": "stream",
     "text": [
      "epoch5/8\n"
     ]
    },
    {
     "name": "stderr",
     "output_type": "stream",
     "text": [
      " 99%|█████████▉| 100/101 [00:02<00:00, 47.86it/s]\n"
     ]
    },
    {
     "name": "stdout",
     "output_type": "stream",
     "text": [
      "epoch6/8\n"
     ]
    },
    {
     "name": "stderr",
     "output_type": "stream",
     "text": [
      " 99%|█████████▉| 100/101 [00:01<00:00, 52.28it/s]\n"
     ]
    },
    {
     "name": "stdout",
     "output_type": "stream",
     "text": [
      "epoch7/8\n"
     ]
    },
    {
     "name": "stderr",
     "output_type": "stream",
     "text": [
      " 99%|█████████▉| 100/101 [00:01<00:00, 51.07it/s]\n"
     ]
    },
    {
     "name": "stdout",
     "output_type": "stream",
     "text": [
      "epoch8/8\n"
     ]
    },
    {
     "name": "stderr",
     "output_type": "stream",
     "text": [
      " 99%|█████████▉| 100/101 [00:01<00:00, 52.49it/s]\n"
     ]
    },
    {
     "name": "stdout",
     "output_type": "stream",
     "text": [
      "epoch1/8\n"
     ]
    },
    {
     "name": "stderr",
     "output_type": "stream",
     "text": [
      " 99%|█████████▉| 100/101 [00:02<00:00, 45.84it/s]\n"
     ]
    },
    {
     "name": "stdout",
     "output_type": "stream",
     "text": [
      "epoch2/8\n"
     ]
    },
    {
     "name": "stderr",
     "output_type": "stream",
     "text": [
      " 99%|█████████▉| 100/101 [00:02<00:00, 48.45it/s]\n"
     ]
    },
    {
     "name": "stdout",
     "output_type": "stream",
     "text": [
      "epoch3/8\n"
     ]
    },
    {
     "name": "stderr",
     "output_type": "stream",
     "text": [
      " 99%|█████████▉| 100/101 [00:01<00:00, 51.53it/s]\n"
     ]
    },
    {
     "name": "stdout",
     "output_type": "stream",
     "text": [
      "epoch4/8\n"
     ]
    },
    {
     "name": "stderr",
     "output_type": "stream",
     "text": [
      " 99%|█████████▉| 100/101 [00:01<00:00, 53.26it/s]\n"
     ]
    },
    {
     "name": "stdout",
     "output_type": "stream",
     "text": [
      "epoch5/8\n"
     ]
    },
    {
     "name": "stderr",
     "output_type": "stream",
     "text": [
      " 99%|█████████▉| 100/101 [00:01<00:00, 53.28it/s]\n"
     ]
    },
    {
     "name": "stdout",
     "output_type": "stream",
     "text": [
      "epoch6/8\n"
     ]
    },
    {
     "name": "stderr",
     "output_type": "stream",
     "text": [
      " 99%|█████████▉| 100/101 [00:01<00:00, 51.49it/s]\n"
     ]
    },
    {
     "name": "stdout",
     "output_type": "stream",
     "text": [
      "epoch7/8\n"
     ]
    },
    {
     "name": "stderr",
     "output_type": "stream",
     "text": [
      " 99%|█████████▉| 100/101 [00:01<00:00, 52.57it/s]\n"
     ]
    },
    {
     "name": "stdout",
     "output_type": "stream",
     "text": [
      "epoch8/8\n"
     ]
    },
    {
     "name": "stderr",
     "output_type": "stream",
     "text": [
      " 99%|█████████▉| 100/101 [00:01<00:00, 52.89it/s]\n"
     ]
    },
    {
     "name": "stdout",
     "output_type": "stream",
     "text": [
      "epoch1/8\n"
     ]
    },
    {
     "name": "stderr",
     "output_type": "stream",
     "text": [
      " 99%|█████████▉| 100/101 [00:02<00:00, 47.03it/s]\n"
     ]
    },
    {
     "name": "stdout",
     "output_type": "stream",
     "text": [
      "epoch2/8\n"
     ]
    },
    {
     "name": "stderr",
     "output_type": "stream",
     "text": [
      " 99%|█████████▉| 100/101 [00:02<00:00, 43.02it/s]\n"
     ]
    },
    {
     "name": "stdout",
     "output_type": "stream",
     "text": [
      "epoch3/8\n"
     ]
    },
    {
     "name": "stderr",
     "output_type": "stream",
     "text": [
      " 99%|█████████▉| 100/101 [00:02<00:00, 47.61it/s]\n"
     ]
    },
    {
     "name": "stdout",
     "output_type": "stream",
     "text": [
      "epoch4/8\n"
     ]
    },
    {
     "name": "stderr",
     "output_type": "stream",
     "text": [
      " 99%|█████████▉| 100/101 [00:01<00:00, 52.84it/s]\n"
     ]
    },
    {
     "name": "stdout",
     "output_type": "stream",
     "text": [
      "epoch5/8\n"
     ]
    },
    {
     "name": "stderr",
     "output_type": "stream",
     "text": [
      " 99%|█████████▉| 100/101 [00:01<00:00, 52.96it/s]\n"
     ]
    },
    {
     "name": "stdout",
     "output_type": "stream",
     "text": [
      "epoch6/8\n"
     ]
    },
    {
     "name": "stderr",
     "output_type": "stream",
     "text": [
      " 99%|█████████▉| 100/101 [00:01<00:00, 51.73it/s]\n"
     ]
    },
    {
     "name": "stdout",
     "output_type": "stream",
     "text": [
      "epoch7/8\n"
     ]
    },
    {
     "name": "stderr",
     "output_type": "stream",
     "text": [
      " 99%|█████████▉| 100/101 [00:01<00:00, 53.14it/s]\n"
     ]
    },
    {
     "name": "stdout",
     "output_type": "stream",
     "text": [
      "epoch8/8\n"
     ]
    },
    {
     "name": "stderr",
     "output_type": "stream",
     "text": [
      " 99%|█████████▉| 100/101 [00:01<00:00, 52.57it/s]\n"
     ]
    },
    {
     "name": "stdout",
     "output_type": "stream",
     "text": [
      "epoch1/8\n"
     ]
    },
    {
     "name": "stderr",
     "output_type": "stream",
     "text": [
      " 99%|█████████▉| 100/101 [00:02<00:00, 46.13it/s]\n"
     ]
    },
    {
     "name": "stdout",
     "output_type": "stream",
     "text": [
      "epoch2/8\n"
     ]
    },
    {
     "name": "stderr",
     "output_type": "stream",
     "text": [
      " 99%|█████████▉| 100/101 [00:01<00:00, 50.98it/s]\n"
     ]
    },
    {
     "name": "stdout",
     "output_type": "stream",
     "text": [
      "epoch3/8\n"
     ]
    },
    {
     "name": "stderr",
     "output_type": "stream",
     "text": [
      " 99%|█████████▉| 100/101 [00:01<00:00, 50.78it/s]\n"
     ]
    },
    {
     "name": "stdout",
     "output_type": "stream",
     "text": [
      "epoch4/8\n"
     ]
    },
    {
     "name": "stderr",
     "output_type": "stream",
     "text": [
      " 99%|█████████▉| 100/101 [00:01<00:00, 53.14it/s]\n"
     ]
    },
    {
     "name": "stdout",
     "output_type": "stream",
     "text": [
      "epoch5/8\n"
     ]
    },
    {
     "name": "stderr",
     "output_type": "stream",
     "text": [
      " 99%|█████████▉| 100/101 [00:01<00:00, 53.65it/s]\n"
     ]
    },
    {
     "name": "stdout",
     "output_type": "stream",
     "text": [
      "epoch6/8\n"
     ]
    },
    {
     "name": "stderr",
     "output_type": "stream",
     "text": [
      " 99%|█████████▉| 100/101 [00:01<00:00, 52.66it/s]\n"
     ]
    },
    {
     "name": "stdout",
     "output_type": "stream",
     "text": [
      "epoch7/8\n"
     ]
    },
    {
     "name": "stderr",
     "output_type": "stream",
     "text": [
      " 99%|█████████▉| 100/101 [00:01<00:00, 52.52it/s]\n"
     ]
    },
    {
     "name": "stdout",
     "output_type": "stream",
     "text": [
      "epoch8/8\n"
     ]
    },
    {
     "name": "stderr",
     "output_type": "stream",
     "text": [
      " 99%|█████████▉| 100/101 [00:01<00:00, 52.41it/s]\n"
     ]
    }
   ],
   "source": [
    "lambda_search()"
   ]
  },
  {
   "cell_type": "code",
   "execution_count": 9,
   "metadata": {},
   "outputs": [
    {
     "name": "stdout",
     "output_type": "stream",
     "text": [
      "epoch1/20\n"
     ]
    },
    {
     "name": "stderr",
     "output_type": "stream",
     "text": [
      " 99%|█████████▉| 100/101 [00:02<00:00, 47.68it/s]\n"
     ]
    },
    {
     "name": "stdout",
     "output_type": "stream",
     "text": [
      "epoch2/20\n"
     ]
    },
    {
     "name": "stderr",
     "output_type": "stream",
     "text": [
      " 99%|█████████▉| 100/101 [00:02<00:00, 46.92it/s]\n"
     ]
    },
    {
     "name": "stdout",
     "output_type": "stream",
     "text": [
      "epoch3/20\n"
     ]
    },
    {
     "name": "stderr",
     "output_type": "stream",
     "text": [
      " 99%|█████████▉| 100/101 [00:01<00:00, 52.71it/s]\n"
     ]
    },
    {
     "name": "stdout",
     "output_type": "stream",
     "text": [
      "epoch4/20\n"
     ]
    },
    {
     "name": "stderr",
     "output_type": "stream",
     "text": [
      " 99%|█████████▉| 100/101 [00:01<00:00, 52.38it/s]\n"
     ]
    },
    {
     "name": "stdout",
     "output_type": "stream",
     "text": [
      "epoch5/20\n"
     ]
    },
    {
     "name": "stderr",
     "output_type": "stream",
     "text": [
      " 99%|█████████▉| 100/101 [00:01<00:00, 51.41it/s]\n"
     ]
    },
    {
     "name": "stdout",
     "output_type": "stream",
     "text": [
      "epoch6/20\n"
     ]
    },
    {
     "name": "stderr",
     "output_type": "stream",
     "text": [
      " 99%|█████████▉| 100/101 [00:01<00:00, 52.52it/s]\n"
     ]
    },
    {
     "name": "stdout",
     "output_type": "stream",
     "text": [
      "epoch7/20\n"
     ]
    },
    {
     "name": "stderr",
     "output_type": "stream",
     "text": [
      " 99%|█████████▉| 100/101 [00:01<00:00, 51.04it/s]\n"
     ]
    },
    {
     "name": "stdout",
     "output_type": "stream",
     "text": [
      "epoch8/20\n"
     ]
    },
    {
     "name": "stderr",
     "output_type": "stream",
     "text": [
      " 99%|█████████▉| 100/101 [00:01<00:00, 51.14it/s]\n"
     ]
    },
    {
     "name": "stdout",
     "output_type": "stream",
     "text": [
      "epoch9/20\n"
     ]
    },
    {
     "name": "stderr",
     "output_type": "stream",
     "text": [
      " 99%|█████████▉| 100/101 [00:01<00:00, 52.88it/s]\n"
     ]
    },
    {
     "name": "stdout",
     "output_type": "stream",
     "text": [
      "epoch10/20\n"
     ]
    },
    {
     "name": "stderr",
     "output_type": "stream",
     "text": [
      " 99%|█████████▉| 100/101 [00:01<00:00, 51.36it/s]\n"
     ]
    },
    {
     "name": "stdout",
     "output_type": "stream",
     "text": [
      "epoch11/20\n"
     ]
    },
    {
     "name": "stderr",
     "output_type": "stream",
     "text": [
      " 99%|█████████▉| 100/101 [00:02<00:00, 48.25it/s]\n"
     ]
    },
    {
     "name": "stdout",
     "output_type": "stream",
     "text": [
      "epoch12/20\n"
     ]
    },
    {
     "name": "stderr",
     "output_type": "stream",
     "text": [
      " 99%|█████████▉| 100/101 [00:01<00:00, 52.17it/s]\n"
     ]
    },
    {
     "name": "stdout",
     "output_type": "stream",
     "text": [
      "epoch13/20\n"
     ]
    },
    {
     "name": "stderr",
     "output_type": "stream",
     "text": [
      " 99%|█████████▉| 100/101 [00:01<00:00, 51.47it/s]\n"
     ]
    },
    {
     "name": "stdout",
     "output_type": "stream",
     "text": [
      "epoch14/20\n"
     ]
    },
    {
     "name": "stderr",
     "output_type": "stream",
     "text": [
      " 99%|█████████▉| 100/101 [00:01<00:00, 50.33it/s]\n"
     ]
    },
    {
     "name": "stdout",
     "output_type": "stream",
     "text": [
      "epoch15/20\n"
     ]
    },
    {
     "name": "stderr",
     "output_type": "stream",
     "text": [
      " 99%|█████████▉| 100/101 [00:01<00:00, 51.59it/s]\n"
     ]
    },
    {
     "name": "stdout",
     "output_type": "stream",
     "text": [
      "epoch16/20\n"
     ]
    },
    {
     "name": "stderr",
     "output_type": "stream",
     "text": [
      " 99%|█████████▉| 100/101 [00:01<00:00, 52.54it/s]\n"
     ]
    },
    {
     "name": "stdout",
     "output_type": "stream",
     "text": [
      "epoch17/20\n"
     ]
    },
    {
     "name": "stderr",
     "output_type": "stream",
     "text": [
      " 99%|█████████▉| 100/101 [00:01<00:00, 52.93it/s]\n"
     ]
    },
    {
     "name": "stdout",
     "output_type": "stream",
     "text": [
      "epoch18/20\n"
     ]
    },
    {
     "name": "stderr",
     "output_type": "stream",
     "text": [
      " 99%|█████████▉| 100/101 [00:01<00:00, 52.41it/s]\n"
     ]
    },
    {
     "name": "stdout",
     "output_type": "stream",
     "text": [
      "epoch19/20\n"
     ]
    },
    {
     "name": "stderr",
     "output_type": "stream",
     "text": [
      " 99%|█████████▉| 100/101 [00:01<00:00, 51.00it/s]\n"
     ]
    },
    {
     "name": "stdout",
     "output_type": "stream",
     "text": [
      "epoch20/20\n"
     ]
    },
    {
     "name": "stderr",
     "output_type": "stream",
     "text": [
      " 99%|█████████▉| 100/101 [00:01<00:00, 52.16it/s]\n"
     ]
    }
   ],
   "source": [
    "average_set()"
   ]
  },
  {
   "cell_type": "code",
   "execution_count": 10,
   "metadata": {},
   "outputs": [
    {
     "name": "stdout",
     "output_type": "stream",
     "text": [
      "epoch1/20\n"
     ]
    },
    {
     "name": "stderr",
     "output_type": "stream",
     "text": [
      " 99%|█████████▉| 100/101 [00:02<00:00, 49.55it/s]\n"
     ]
    },
    {
     "name": "stdout",
     "output_type": "stream",
     "text": [
      "epoch2/20\n"
     ]
    },
    {
     "name": "stderr",
     "output_type": "stream",
     "text": [
      " 99%|█████████▉| 100/101 [00:01<00:00, 52.39it/s]\n"
     ]
    },
    {
     "name": "stdout",
     "output_type": "stream",
     "text": [
      "epoch3/20\n"
     ]
    },
    {
     "name": "stderr",
     "output_type": "stream",
     "text": [
      " 99%|█████████▉| 100/101 [00:01<00:00, 51.29it/s]\n"
     ]
    },
    {
     "name": "stdout",
     "output_type": "stream",
     "text": [
      "epoch4/20\n"
     ]
    },
    {
     "name": "stderr",
     "output_type": "stream",
     "text": [
      " 99%|█████████▉| 100/101 [00:01<00:00, 52.52it/s]\n"
     ]
    },
    {
     "name": "stdout",
     "output_type": "stream",
     "text": [
      "epoch5/20\n"
     ]
    },
    {
     "name": "stderr",
     "output_type": "stream",
     "text": [
      " 99%|█████████▉| 100/101 [00:01<00:00, 51.49it/s]\n"
     ]
    },
    {
     "name": "stdout",
     "output_type": "stream",
     "text": [
      "epoch6/20\n"
     ]
    },
    {
     "name": "stderr",
     "output_type": "stream",
     "text": [
      " 99%|█████████▉| 100/101 [00:01<00:00, 52.61it/s]\n"
     ]
    },
    {
     "name": "stdout",
     "output_type": "stream",
     "text": [
      "epoch7/20\n"
     ]
    },
    {
     "name": "stderr",
     "output_type": "stream",
     "text": [
      " 99%|█████████▉| 100/101 [00:01<00:00, 52.20it/s]\n"
     ]
    },
    {
     "name": "stdout",
     "output_type": "stream",
     "text": [
      "epoch8/20\n"
     ]
    },
    {
     "name": "stderr",
     "output_type": "stream",
     "text": [
      " 99%|█████████▉| 100/101 [00:01<00:00, 52.94it/s]\n"
     ]
    },
    {
     "name": "stdout",
     "output_type": "stream",
     "text": [
      "epoch9/20\n"
     ]
    },
    {
     "name": "stderr",
     "output_type": "stream",
     "text": [
      " 99%|█████████▉| 100/101 [00:01<00:00, 50.98it/s]\n"
     ]
    },
    {
     "name": "stdout",
     "output_type": "stream",
     "text": [
      "epoch10/20\n"
     ]
    },
    {
     "name": "stderr",
     "output_type": "stream",
     "text": [
      " 99%|█████████▉| 100/101 [00:02<00:00, 47.02it/s]\n"
     ]
    },
    {
     "name": "stdout",
     "output_type": "stream",
     "text": [
      "epoch11/20\n"
     ]
    },
    {
     "name": "stderr",
     "output_type": "stream",
     "text": [
      " 99%|█████████▉| 100/101 [00:01<00:00, 51.66it/s]\n"
     ]
    },
    {
     "name": "stdout",
     "output_type": "stream",
     "text": [
      "epoch12/20\n"
     ]
    },
    {
     "name": "stderr",
     "output_type": "stream",
     "text": [
      " 99%|█████████▉| 100/101 [00:01<00:00, 50.35it/s]\n"
     ]
    },
    {
     "name": "stdout",
     "output_type": "stream",
     "text": [
      "epoch13/20\n"
     ]
    },
    {
     "name": "stderr",
     "output_type": "stream",
     "text": [
      " 99%|█████████▉| 100/101 [00:02<00:00, 48.21it/s]\n"
     ]
    },
    {
     "name": "stdout",
     "output_type": "stream",
     "text": [
      "epoch14/20\n"
     ]
    },
    {
     "name": "stderr",
     "output_type": "stream",
     "text": [
      " 99%|█████████▉| 100/101 [00:01<00:00, 50.09it/s]\n"
     ]
    },
    {
     "name": "stdout",
     "output_type": "stream",
     "text": [
      "epoch15/20\n"
     ]
    },
    {
     "name": "stderr",
     "output_type": "stream",
     "text": [
      " 99%|█████████▉| 100/101 [00:01<00:00, 52.70it/s]\n"
     ]
    },
    {
     "name": "stdout",
     "output_type": "stream",
     "text": [
      "epoch16/20\n"
     ]
    },
    {
     "name": "stderr",
     "output_type": "stream",
     "text": [
      " 99%|█████████▉| 100/101 [00:01<00:00, 53.42it/s]\n"
     ]
    },
    {
     "name": "stdout",
     "output_type": "stream",
     "text": [
      "epoch17/20\n"
     ]
    },
    {
     "name": "stderr",
     "output_type": "stream",
     "text": [
      " 99%|█████████▉| 100/101 [00:01<00:00, 53.05it/s]\n"
     ]
    },
    {
     "name": "stdout",
     "output_type": "stream",
     "text": [
      "epoch18/20\n"
     ]
    },
    {
     "name": "stderr",
     "output_type": "stream",
     "text": [
      " 99%|█████████▉| 100/101 [00:01<00:00, 52.54it/s]\n"
     ]
    },
    {
     "name": "stdout",
     "output_type": "stream",
     "text": [
      "epoch19/20\n"
     ]
    },
    {
     "name": "stderr",
     "output_type": "stream",
     "text": [
      " 99%|█████████▉| 100/101 [00:01<00:00, 50.52it/s]\n"
     ]
    },
    {
     "name": "stdout",
     "output_type": "stream",
     "text": [
      "epoch20/20\n"
     ]
    },
    {
     "name": "stderr",
     "output_type": "stream",
     "text": [
      " 99%|█████████▉| 100/101 [00:01<00:00, 52.87it/s]\n"
     ]
    }
   ],
   "source": [
    "adaptive_bn()"
   ]
  },
  {
   "cell_type": "code",
   "execution_count": 11,
   "metadata": {},
   "outputs": [
    {
     "name": "stdout",
     "output_type": "stream",
     "text": [
      "epoch1/20\n"
     ]
    },
    {
     "name": "stderr",
     "output_type": "stream",
     "text": [
      " 99%|█████████▉| 100/101 [00:01<00:00, 50.91it/s]\n"
     ]
    },
    {
     "name": "stdout",
     "output_type": "stream",
     "text": [
      "epoch2/20\n"
     ]
    },
    {
     "name": "stderr",
     "output_type": "stream",
     "text": [
      " 99%|█████████▉| 100/101 [00:01<00:00, 52.03it/s]\n"
     ]
    },
    {
     "name": "stdout",
     "output_type": "stream",
     "text": [
      "epoch3/20\n"
     ]
    },
    {
     "name": "stderr",
     "output_type": "stream",
     "text": [
      " 99%|█████████▉| 100/101 [00:01<00:00, 50.25it/s]\n"
     ]
    },
    {
     "name": "stdout",
     "output_type": "stream",
     "text": [
      "epoch4/20\n"
     ]
    },
    {
     "name": "stderr",
     "output_type": "stream",
     "text": [
      " 99%|█████████▉| 100/101 [00:02<00:00, 45.64it/s]\n"
     ]
    },
    {
     "name": "stdout",
     "output_type": "stream",
     "text": [
      "epoch5/20\n"
     ]
    },
    {
     "name": "stderr",
     "output_type": "stream",
     "text": [
      " 99%|█████████▉| 100/101 [00:02<00:00, 47.05it/s]\n"
     ]
    },
    {
     "name": "stdout",
     "output_type": "stream",
     "text": [
      "epoch6/20\n"
     ]
    },
    {
     "name": "stderr",
     "output_type": "stream",
     "text": [
      " 99%|█████████▉| 100/101 [00:01<00:00, 52.03it/s]\n"
     ]
    },
    {
     "name": "stdout",
     "output_type": "stream",
     "text": [
      "epoch7/20\n"
     ]
    },
    {
     "name": "stderr",
     "output_type": "stream",
     "text": [
      " 99%|█████████▉| 100/101 [00:01<00:00, 52.60it/s]\n"
     ]
    },
    {
     "name": "stdout",
     "output_type": "stream",
     "text": [
      "epoch8/20\n"
     ]
    },
    {
     "name": "stderr",
     "output_type": "stream",
     "text": [
      " 99%|█████████▉| 100/101 [00:01<00:00, 51.24it/s]\n"
     ]
    },
    {
     "name": "stdout",
     "output_type": "stream",
     "text": [
      "epoch9/20\n"
     ]
    },
    {
     "name": "stderr",
     "output_type": "stream",
     "text": [
      " 99%|█████████▉| 100/101 [00:02<00:00, 47.27it/s]\n"
     ]
    },
    {
     "name": "stdout",
     "output_type": "stream",
     "text": [
      "epoch10/20\n"
     ]
    },
    {
     "name": "stderr",
     "output_type": "stream",
     "text": [
      " 99%|█████████▉| 100/101 [00:01<00:00, 51.86it/s]\n"
     ]
    },
    {
     "name": "stdout",
     "output_type": "stream",
     "text": [
      "epoch11/20\n"
     ]
    },
    {
     "name": "stderr",
     "output_type": "stream",
     "text": [
      " 99%|█████████▉| 100/101 [00:01<00:00, 51.64it/s]\n"
     ]
    },
    {
     "name": "stdout",
     "output_type": "stream",
     "text": [
      "epoch12/20\n"
     ]
    },
    {
     "name": "stderr",
     "output_type": "stream",
     "text": [
      " 99%|█████████▉| 100/101 [00:01<00:00, 51.25it/s]\n"
     ]
    },
    {
     "name": "stdout",
     "output_type": "stream",
     "text": [
      "epoch13/20\n"
     ]
    },
    {
     "name": "stderr",
     "output_type": "stream",
     "text": [
      " 99%|█████████▉| 100/101 [00:01<00:00, 51.85it/s]\n"
     ]
    },
    {
     "name": "stdout",
     "output_type": "stream",
     "text": [
      "epoch14/20\n"
     ]
    },
    {
     "name": "stderr",
     "output_type": "stream",
     "text": [
      " 99%|█████████▉| 100/101 [00:01<00:00, 51.55it/s]\n"
     ]
    },
    {
     "name": "stdout",
     "output_type": "stream",
     "text": [
      "epoch15/20\n"
     ]
    },
    {
     "name": "stderr",
     "output_type": "stream",
     "text": [
      " 99%|█████████▉| 100/101 [00:01<00:00, 52.21it/s]\n"
     ]
    },
    {
     "name": "stdout",
     "output_type": "stream",
     "text": [
      "epoch16/20\n"
     ]
    },
    {
     "name": "stderr",
     "output_type": "stream",
     "text": [
      " 99%|█████████▉| 100/101 [00:01<00:00, 51.96it/s]\n"
     ]
    },
    {
     "name": "stdout",
     "output_type": "stream",
     "text": [
      "epoch17/20\n"
     ]
    },
    {
     "name": "stderr",
     "output_type": "stream",
     "text": [
      " 99%|█████████▉| 100/101 [00:01<00:00, 51.68it/s]\n"
     ]
    },
    {
     "name": "stdout",
     "output_type": "stream",
     "text": [
      "epoch18/20\n"
     ]
    },
    {
     "name": "stderr",
     "output_type": "stream",
     "text": [
      " 99%|█████████▉| 100/101 [00:01<00:00, 51.43it/s]\n"
     ]
    },
    {
     "name": "stdout",
     "output_type": "stream",
     "text": [
      "epoch19/20\n"
     ]
    },
    {
     "name": "stderr",
     "output_type": "stream",
     "text": [
      " 99%|█████████▉| 100/101 [00:01<00:00, 52.71it/s]\n"
     ]
    },
    {
     "name": "stdout",
     "output_type": "stream",
     "text": [
      "epoch20/20\n"
     ]
    },
    {
     "name": "stderr",
     "output_type": "stream",
     "text": [
      " 99%|█████████▉| 100/101 [00:01<00:00, 52.13it/s]\n"
     ]
    }
   ],
   "source": [
    "after_tester()"
   ]
  },
  {
   "cell_type": "code",
   "execution_count": 12,
   "metadata": {},
   "outputs": [
    {
     "name": "stdout",
     "output_type": "stream",
     "text": [
      "epoch1/30\n"
     ]
    },
    {
     "name": "stderr",
     "output_type": "stream",
     "text": [
      " 99%|█████████▉| 100/101 [00:02<00:00, 48.09it/s]\n"
     ]
    },
    {
     "name": "stdout",
     "output_type": "stream",
     "text": [
      "epoch2/30\n"
     ]
    },
    {
     "name": "stderr",
     "output_type": "stream",
     "text": [
      " 99%|█████████▉| 100/101 [00:02<00:00, 46.20it/s]\n"
     ]
    },
    {
     "name": "stdout",
     "output_type": "stream",
     "text": [
      "epoch3/30\n"
     ]
    },
    {
     "name": "stderr",
     "output_type": "stream",
     "text": [
      " 99%|█████████▉| 100/101 [00:02<00:00, 47.81it/s]\n"
     ]
    },
    {
     "name": "stdout",
     "output_type": "stream",
     "text": [
      "epoch4/30\n"
     ]
    },
    {
     "name": "stderr",
     "output_type": "stream",
     "text": [
      " 99%|█████████▉| 100/101 [00:02<00:00, 48.05it/s]\n"
     ]
    },
    {
     "name": "stdout",
     "output_type": "stream",
     "text": [
      "epoch5/30\n"
     ]
    },
    {
     "name": "stderr",
     "output_type": "stream",
     "text": [
      " 99%|█████████▉| 100/101 [00:02<00:00, 48.23it/s]\n"
     ]
    },
    {
     "name": "stdout",
     "output_type": "stream",
     "text": [
      "epoch6/30\n"
     ]
    },
    {
     "name": "stderr",
     "output_type": "stream",
     "text": [
      " 99%|█████████▉| 100/101 [00:02<00:00, 48.27it/s]\n"
     ]
    },
    {
     "name": "stdout",
     "output_type": "stream",
     "text": [
      "epoch7/30\n"
     ]
    },
    {
     "name": "stderr",
     "output_type": "stream",
     "text": [
      " 99%|█████████▉| 100/101 [00:02<00:00, 47.65it/s]\n"
     ]
    },
    {
     "name": "stdout",
     "output_type": "stream",
     "text": [
      "epoch8/30\n"
     ]
    },
    {
     "name": "stderr",
     "output_type": "stream",
     "text": [
      " 99%|█████████▉| 100/101 [00:02<00:00, 48.12it/s]\n"
     ]
    },
    {
     "name": "stdout",
     "output_type": "stream",
     "text": [
      "epoch9/30\n"
     ]
    },
    {
     "name": "stderr",
     "output_type": "stream",
     "text": [
      " 99%|█████████▉| 100/101 [00:02<00:00, 47.93it/s]\n"
     ]
    },
    {
     "name": "stdout",
     "output_type": "stream",
     "text": [
      "epoch10/30\n"
     ]
    },
    {
     "name": "stderr",
     "output_type": "stream",
     "text": [
      " 99%|█████████▉| 100/101 [00:02<00:00, 47.78it/s]\n"
     ]
    },
    {
     "name": "stdout",
     "output_type": "stream",
     "text": [
      "epoch11/30\n"
     ]
    },
    {
     "name": "stderr",
     "output_type": "stream",
     "text": [
      " 99%|█████████▉| 100/101 [00:02<00:00, 46.86it/s]\n"
     ]
    },
    {
     "name": "stdout",
     "output_type": "stream",
     "text": [
      "epoch12/30\n"
     ]
    },
    {
     "name": "stderr",
     "output_type": "stream",
     "text": [
      " 99%|█████████▉| 100/101 [00:02<00:00, 47.79it/s]\n"
     ]
    },
    {
     "name": "stdout",
     "output_type": "stream",
     "text": [
      "epoch13/30\n"
     ]
    },
    {
     "name": "stderr",
     "output_type": "stream",
     "text": [
      " 99%|█████████▉| 100/101 [00:02<00:00, 47.84it/s]\n"
     ]
    },
    {
     "name": "stdout",
     "output_type": "stream",
     "text": [
      "epoch14/30\n"
     ]
    },
    {
     "name": "stderr",
     "output_type": "stream",
     "text": [
      " 99%|█████████▉| 100/101 [00:02<00:00, 44.86it/s]\n"
     ]
    },
    {
     "name": "stdout",
     "output_type": "stream",
     "text": [
      "epoch15/30\n"
     ]
    },
    {
     "name": "stderr",
     "output_type": "stream",
     "text": [
      " 99%|█████████▉| 100/101 [00:02<00:00, 44.52it/s]\n"
     ]
    },
    {
     "name": "stdout",
     "output_type": "stream",
     "text": [
      "epoch16/30\n"
     ]
    },
    {
     "name": "stderr",
     "output_type": "stream",
     "text": [
      " 99%|█████████▉| 100/101 [00:02<00:00, 47.95it/s]\n"
     ]
    },
    {
     "name": "stdout",
     "output_type": "stream",
     "text": [
      "epoch17/30\n"
     ]
    },
    {
     "name": "stderr",
     "output_type": "stream",
     "text": [
      " 99%|█████████▉| 100/101 [00:02<00:00, 47.55it/s]\n"
     ]
    },
    {
     "name": "stdout",
     "output_type": "stream",
     "text": [
      "epoch18/30\n"
     ]
    },
    {
     "name": "stderr",
     "output_type": "stream",
     "text": [
      " 99%|█████████▉| 100/101 [00:02<00:00, 46.78it/s]\n"
     ]
    },
    {
     "name": "stdout",
     "output_type": "stream",
     "text": [
      "epoch19/30\n"
     ]
    },
    {
     "name": "stderr",
     "output_type": "stream",
     "text": [
      " 99%|█████████▉| 100/101 [00:02<00:00, 47.28it/s]\n"
     ]
    },
    {
     "name": "stdout",
     "output_type": "stream",
     "text": [
      "epoch20/30\n"
     ]
    },
    {
     "name": "stderr",
     "output_type": "stream",
     "text": [
      " 99%|█████████▉| 100/101 [00:02<00:00, 48.43it/s]\n"
     ]
    },
    {
     "name": "stdout",
     "output_type": "stream",
     "text": [
      "epoch21/30\n"
     ]
    },
    {
     "name": "stderr",
     "output_type": "stream",
     "text": [
      " 99%|█████████▉| 100/101 [00:02<00:00, 48.73it/s]\n"
     ]
    },
    {
     "name": "stdout",
     "output_type": "stream",
     "text": [
      "epoch22/30\n"
     ]
    },
    {
     "name": "stderr",
     "output_type": "stream",
     "text": [
      " 99%|█████████▉| 100/101 [00:02<00:00, 48.48it/s]\n"
     ]
    },
    {
     "name": "stdout",
     "output_type": "stream",
     "text": [
      "epoch23/30\n"
     ]
    },
    {
     "name": "stderr",
     "output_type": "stream",
     "text": [
      " 99%|█████████▉| 100/101 [00:02<00:00, 46.43it/s]\n"
     ]
    },
    {
     "name": "stdout",
     "output_type": "stream",
     "text": [
      "epoch24/30\n"
     ]
    },
    {
     "name": "stderr",
     "output_type": "stream",
     "text": [
      " 99%|█████████▉| 100/101 [00:02<00:00, 48.20it/s]\n"
     ]
    },
    {
     "name": "stdout",
     "output_type": "stream",
     "text": [
      "epoch25/30\n"
     ]
    },
    {
     "name": "stderr",
     "output_type": "stream",
     "text": [
      " 99%|█████████▉| 100/101 [00:02<00:00, 48.21it/s]\n"
     ]
    },
    {
     "name": "stdout",
     "output_type": "stream",
     "text": [
      "epoch26/30\n"
     ]
    },
    {
     "name": "stderr",
     "output_type": "stream",
     "text": [
      " 99%|█████████▉| 100/101 [00:02<00:00, 48.66it/s]\n"
     ]
    },
    {
     "name": "stdout",
     "output_type": "stream",
     "text": [
      "epoch27/30\n"
     ]
    },
    {
     "name": "stderr",
     "output_type": "stream",
     "text": [
      " 99%|█████████▉| 100/101 [00:02<00:00, 48.66it/s]\n"
     ]
    },
    {
     "name": "stdout",
     "output_type": "stream",
     "text": [
      "epoch28/30\n"
     ]
    },
    {
     "name": "stderr",
     "output_type": "stream",
     "text": [
      " 99%|█████████▉| 100/101 [00:02<00:00, 48.06it/s]\n"
     ]
    },
    {
     "name": "stdout",
     "output_type": "stream",
     "text": [
      "epoch29/30\n"
     ]
    },
    {
     "name": "stderr",
     "output_type": "stream",
     "text": [
      " 99%|█████████▉| 100/101 [00:02<00:00, 47.24it/s]\n"
     ]
    },
    {
     "name": "stdout",
     "output_type": "stream",
     "text": [
      "epoch30/30\n"
     ]
    },
    {
     "name": "stderr",
     "output_type": "stream",
     "text": [
      " 99%|█████████▉| 100/101 [00:02<00:00, 48.13it/s]\n"
     ]
    }
   ],
   "source": [
    "adam()"
   ]
  },
  {
   "cell_type": "code",
   "execution_count": 13,
   "metadata": {},
   "outputs": [
    {
     "name": "stdout",
     "output_type": "stream",
     "text": [
      "epoch1/20\n"
     ]
    },
    {
     "name": "stderr",
     "output_type": "stream",
     "text": [
      " 99%|█████████▉| 100/101 [00:02<00:00, 39.50it/s]\n"
     ]
    },
    {
     "name": "stdout",
     "output_type": "stream",
     "text": [
      "epoch2/20\n"
     ]
    },
    {
     "name": "stderr",
     "output_type": "stream",
     "text": [
      " 99%|█████████▉| 100/101 [00:02<00:00, 39.85it/s]\n"
     ]
    },
    {
     "name": "stdout",
     "output_type": "stream",
     "text": [
      "epoch3/20\n"
     ]
    },
    {
     "name": "stderr",
     "output_type": "stream",
     "text": [
      " 99%|█████████▉| 100/101 [00:02<00:00, 40.85it/s]\n"
     ]
    },
    {
     "name": "stdout",
     "output_type": "stream",
     "text": [
      "epoch4/20\n"
     ]
    },
    {
     "name": "stderr",
     "output_type": "stream",
     "text": [
      " 99%|█████████▉| 100/101 [00:02<00:00, 40.58it/s]\n"
     ]
    },
    {
     "name": "stdout",
     "output_type": "stream",
     "text": [
      "epoch5/20\n"
     ]
    },
    {
     "name": "stderr",
     "output_type": "stream",
     "text": [
      " 99%|█████████▉| 100/101 [00:02<00:00, 40.45it/s]\n"
     ]
    },
    {
     "name": "stdout",
     "output_type": "stream",
     "text": [
      "epoch6/20\n"
     ]
    },
    {
     "name": "stderr",
     "output_type": "stream",
     "text": [
      " 99%|█████████▉| 100/101 [00:02<00:00, 40.24it/s]\n"
     ]
    },
    {
     "name": "stdout",
     "output_type": "stream",
     "text": [
      "epoch7/20\n"
     ]
    },
    {
     "name": "stderr",
     "output_type": "stream",
     "text": [
      " 99%|█████████▉| 100/101 [00:02<00:00, 38.15it/s]\n"
     ]
    },
    {
     "name": "stdout",
     "output_type": "stream",
     "text": [
      "epoch8/20\n"
     ]
    },
    {
     "name": "stderr",
     "output_type": "stream",
     "text": [
      " 99%|█████████▉| 100/101 [00:02<00:00, 38.65it/s]\n"
     ]
    },
    {
     "name": "stdout",
     "output_type": "stream",
     "text": [
      "epoch9/20\n"
     ]
    },
    {
     "name": "stderr",
     "output_type": "stream",
     "text": [
      " 99%|█████████▉| 100/101 [00:02<00:00, 36.86it/s]\n"
     ]
    },
    {
     "name": "stdout",
     "output_type": "stream",
     "text": [
      "epoch10/20\n"
     ]
    },
    {
     "name": "stderr",
     "output_type": "stream",
     "text": [
      " 99%|█████████▉| 100/101 [00:02<00:00, 43.25it/s]\n"
     ]
    },
    {
     "name": "stdout",
     "output_type": "stream",
     "text": [
      "epoch11/20\n"
     ]
    },
    {
     "name": "stderr",
     "output_type": "stream",
     "text": [
      " 99%|█████████▉| 100/101 [00:02<00:00, 42.98it/s]\n"
     ]
    },
    {
     "name": "stdout",
     "output_type": "stream",
     "text": [
      "epoch12/20\n"
     ]
    },
    {
     "name": "stderr",
     "output_type": "stream",
     "text": [
      " 99%|█████████▉| 100/101 [00:02<00:00, 37.99it/s]\n"
     ]
    },
    {
     "name": "stdout",
     "output_type": "stream",
     "text": [
      "epoch13/20\n"
     ]
    },
    {
     "name": "stderr",
     "output_type": "stream",
     "text": [
      " 99%|█████████▉| 100/101 [00:03<00:00, 32.80it/s]\n"
     ]
    },
    {
     "name": "stdout",
     "output_type": "stream",
     "text": [
      "epoch14/20\n"
     ]
    },
    {
     "name": "stderr",
     "output_type": "stream",
     "text": [
      " 99%|█████████▉| 100/101 [00:02<00:00, 42.09it/s]\n"
     ]
    },
    {
     "name": "stdout",
     "output_type": "stream",
     "text": [
      "epoch15/20\n"
     ]
    },
    {
     "name": "stderr",
     "output_type": "stream",
     "text": [
      " 99%|█████████▉| 100/101 [00:02<00:00, 37.72it/s]\n"
     ]
    },
    {
     "name": "stdout",
     "output_type": "stream",
     "text": [
      "epoch16/20\n"
     ]
    },
    {
     "name": "stderr",
     "output_type": "stream",
     "text": [
      " 99%|█████████▉| 100/101 [00:03<00:00, 32.68it/s]\n"
     ]
    },
    {
     "name": "stdout",
     "output_type": "stream",
     "text": [
      "epoch17/20\n"
     ]
    },
    {
     "name": "stderr",
     "output_type": "stream",
     "text": [
      " 99%|█████████▉| 100/101 [00:02<00:00, 34.80it/s]\n"
     ]
    },
    {
     "name": "stdout",
     "output_type": "stream",
     "text": [
      "epoch18/20\n"
     ]
    },
    {
     "name": "stderr",
     "output_type": "stream",
     "text": [
      " 99%|█████████▉| 100/101 [00:02<00:00, 43.09it/s]\n"
     ]
    },
    {
     "name": "stdout",
     "output_type": "stream",
     "text": [
      "epoch19/20\n"
     ]
    },
    {
     "name": "stderr",
     "output_type": "stream",
     "text": [
      " 99%|█████████▉| 100/101 [00:02<00:00, 39.50it/s]\n"
     ]
    },
    {
     "name": "stdout",
     "output_type": "stream",
     "text": [
      "epoch20/20\n"
     ]
    },
    {
     "name": "stderr",
     "output_type": "stream",
     "text": [
      " 99%|█████████▉| 100/101 [00:02<00:00, 38.32it/s]\n"
     ]
    }
   ],
   "source": [
    "more_hidden()"
   ]
  },
  {
   "cell_type": "code",
   "execution_count": 14,
   "metadata": {},
   "outputs": [
    {
     "name": "stdout",
     "output_type": "stream",
     "text": [
      "model with no batch norm\n",
      "layer 0:\n",
      "\tW: mean=-0.6207156471984636 std=4.2062091508977275 mean_diff=-1.3290249678554744e-08 std_diff=1.8376465973824798e-08 max_diff=3.783274316049301e-08\n",
      "\tb: mean=2.958598936503703 std=3.831797752036286 mean_diff=-1.2606987098706668e-08 std_diff=1.1412623317444715e-08 max_diff=5.514868561817821e-09\n",
      "-----------\n",
      "layer 1:\n",
      "\tW: mean=7.1511766651264725 std=8.149609012725938 mean_diff=1.31085879183368e-08 std_diff=1.4960441695227654e-08 max_diff=3.778011858912578e-08\n",
      "\tb: mean=1.6784433650337358 std=1.0042210868152899 mean_diff=-1.3795279367456725e-08 std_diff=2.376508365656045e-08 max_diff=2.0756889096418263e-08\n",
      "-----------\n",
      "layer 2:\n",
      "\tW: mean=-0.003111605774912789 std=5.0335854112828 mean_diff=1.464793214296504e-08 std_diff=1.1151562801661433e-08 max_diff=3.3402596244513916e-08\n",
      "\tb: mean=0.0 std=0.27568097794666774 mean_diff=-3.087936364193132e-18 std_diff=1.2679730661760969e-08 max_diff=1.1873635241688163e-08\n",
      "-----------\n",
      "model with batch norm\n",
      "layer 0:\n",
      "\tW: mean=-0.056952301724631955 std=0.08926238454755225 mean_diff=1.908361124749146e-08 std_diff=2.0849186284038364e-08 max_diff=7.745662267133469e-08\n",
      "\tb: mean=-5.273559366969494e-18 std=4.531049901200376e-18 mean_diff=-3.552713626064907e-10 std_diff=7.105427321518753e-10 max_diff=8.326672684688674e-18\n",
      "\tgamma: mean=1.6993045341695545e-07 std=0.3641843043966401 mean_diff=1.086022990023916e-07 std_diff=1.4832386240209048e-07 max_diff=2.2168318818127641e-07\n",
      "\tbetas: mean=-0.031764526866008724 std=0.38633591623133123 mean_diff=3.377203754428848e-07 std_diff=2.3390094385958087e-07 max_diff=7.020023509163309e-07\n",
      "-----------\n",
      "layer 1:\n",
      "\tW: mean=-0.04275241288494294 std=0.24910425499418865 mean_diff=5.826846086550222e-08 std_diff=2.085035332911015e-07 max_diff=1.06000069366452e-06\n",
      "\tb: mean=-6.473988012345445e-17 std=1.4653320817370859e-16 mean_diff=6.473988012345445e-17 std_diff=1.4653320817370859e-16 max_diff=3.552713678800501e-16\n",
      "\tgamma: mean=0.37423615445240543 std=0.46830823615726586 mean_diff=1.0139879589587953e-07 std_diff=7.015118725388728e-08 max_diff=2.2088234630235348e-07\n",
      "\tbetas: mean=0.518509495500413 std=0.7877433697331758 mean_diff=3.0599440226236616e-07 std_diff=2.0478811529184908e-07 max_diff=5.426792050178264e-07\n",
      "-----------\n",
      "layer 2:\n",
      "\tW: mean=0.007754194059737999 std=0.11247424425355884 mean_diff=1.3314239807734815e-08 std_diff=6.422166750164037e-09 max_diff=3.4003636240065305e-08\n",
      "\tb: mean=2.7755575615628915e-18 std=0.19340432909243177 mean_diff=1.6164847233793475e-08 std_diff=2.3950511579470503e-08 max_diff=6.685657139016143e-08\n",
      "-----------\n"
     ]
    }
   ],
   "source": [
    "test_gradient()"
   ]
  }
 ],
 "metadata": {
  "kernelspec": {
   "display_name": "Python 3",
   "language": "python",
   "name": "python3"
  },
  "language_info": {
   "codemirror_mode": {
    "name": "ipython",
    "version": 3
   },
   "file_extension": ".py",
   "mimetype": "text/x-python",
   "name": "python",
   "nbconvert_exporter": "python",
   "pygments_lexer": "ipython3",
   "version": "3.7.9"
  },
  "orig_nbformat": 4
 },
 "nbformat": 4,
 "nbformat_minor": 2
}
